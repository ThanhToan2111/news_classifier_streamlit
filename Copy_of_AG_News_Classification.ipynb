{
  "cells": [
    {
      "cell_type": "code",
      "execution_count": 1,
      "metadata": {
        "colab": {
          "base_uri": "https://localhost:8080/"
        },
        "id": "MN-ar-e_Gbzx",
        "outputId": "9fdfc2f7-fbf0-4609-b09e-56fcff17d5e2"
      },
      "outputs": [
        {
          "name": "stdout",
          "output_type": "stream",
          "text": [
            "Data source import complete.\n"
          ]
        }
      ],
      "source": [
        "# IMPORTANT: RUN THIS CELL IN ORDER TO IMPORT YOUR KAGGLE DATA SOURCES,\n",
        "# THEN FEEL FREE TO DELETE THIS CELL.\n",
        "# NOTE: THIS NOTEBOOK ENVIRONMENT DIFFERS FROM KAGGLE'S PYTHON\n",
        "# ENVIRONMENT SO THERE MAY BE MISSING LIBRARIES USED BY YOUR\n",
        "# NOTEBOOK.\n",
        "import kagglehub\n",
        "amananandrai_ag_news_classification_dataset_path = kagglehub.dataset_download('amananandrai/ag-news-classification-dataset')\n",
        "\n",
        "print('Data source import complete.')\n"
      ]
    },
    {
      "cell_type": "markdown",
      "metadata": {
        "id": "pHxrBNRAGbzy"
      },
      "source": [
        "# <p style=\"font-family:Arial;font-size:150%;text-align:center;color:#FF0000;\"> AG News Classification</p>"
      ]
    },
    {
      "cell_type": "markdown",
      "metadata": {
        "id": "G-lXSX4kGbz0"
      },
      "source": [
        "# <p style=\"font-family:Arial;font-size:150%;text-align:center;color:#FF0000;\"> Thư viện</p>"
      ]
    },
    {
      "cell_type": "code",
      "execution_count": 2,
      "metadata": {
        "execution": {
          "iopub.execute_input": "2025-06-11T23:01:18.743893Z",
          "iopub.status.busy": "2025-06-11T23:01:18.743177Z",
          "iopub.status.idle": "2025-06-11T23:01:21.904339Z",
          "shell.execute_reply": "2025-06-11T23:01:21.903628Z",
          "shell.execute_reply.started": "2025-06-11T23:01:18.743865Z"
        },
        "id": "2h6Qg-Y3Gbz1",
        "trusted": true
      },
      "outputs": [],
      "source": [
        "import numpy as np\n",
        "import pandas as pd\n",
        "import os\n",
        "import matplotlib.pyplot as plt\n",
        "%matplotlib inline\n",
        "import seaborn as sns\n",
        "\n",
        "import nltk\n",
        "import re\n",
        "import string\n",
        "\n",
        "from nltk.corpus import stopwords\n",
        "from sklearn.metrics import confusion_matrix,f1_score, accuracy_score\n",
        "from sklearn.metrics import roc_auc_score, roc_curve\n",
        "\n",
        "from sklearn.feature_extraction.text import TfidfVectorizer\n",
        "from sklearn.naive_bayes import MultinomialNB\n",
        "from sklearn.linear_model import LogisticRegression"
      ]
    },
    {
      "cell_type": "markdown",
      "metadata": {
        "id": "hAIUr9UMGbz1"
      },
      "source": [
        "# <p style=\"font-family:Arial;font-size:150%;text-align:center;color:#FF0000;\"> Tải dữ liệu</p>"
      ]
    },
    {
      "cell_type": "code",
      "execution_count": 3,
      "metadata": {
        "_cell_guid": "b1076dfc-b9ad-4769-8c92-a6c4dae69d19",
        "_uuid": "8f2839f25d086af736a60e9eeb907d3b93b6e0e5",
        "colab": {
          "base_uri": "https://localhost:8080/"
        },
        "execution": {
          "iopub.execute_input": "2025-06-11T23:01:21.906231Z",
          "iopub.status.busy": "2025-06-11T23:01:21.905793Z",
          "iopub.status.idle": "2025-06-11T23:01:21.916865Z",
          "shell.execute_reply": "2025-06-11T23:01:21.915985Z",
          "shell.execute_reply.started": "2025-06-11T23:01:21.906188Z"
        },
        "id": "eaKJJ_tvGbz2",
        "outputId": "b76174a3-6b4c-4d3a-bf3b-dd8c562b8ea0",
        "trusted": true
      },
      "outputs": [
        {
          "name": "stdout",
          "output_type": "stream",
          "text": [
            "/kaggle/input/ag-news-classification-dataset/train.csv\n",
            "/kaggle/input/ag-news-classification-dataset/test.csv\n"
          ]
        }
      ],
      "source": [
        "for dirname, _, filenames in os.walk('/kaggle/input'):\n",
        "    for filename in filenames:\n",
        "        print(os.path.join(dirname, filename))"
      ]
    },
    {
      "cell_type": "markdown",
      "metadata": {
        "id": "9iR9ok7RGbz3"
      },
      "source": [
        "# <p style=\"font-family:Arial;font-size:150%;text-align:center;color:#FF0000;\"> Load Dữ liệu</p>"
      ]
    },
    {
      "cell_type": "code",
      "execution_count": 4,
      "metadata": {
        "execution": {
          "iopub.execute_input": "2025-06-11T23:15:55.032867Z",
          "iopub.status.busy": "2025-06-11T23:15:55.03216Z",
          "iopub.status.idle": "2025-06-11T23:15:55.448152Z",
          "shell.execute_reply": "2025-06-11T23:15:55.447391Z",
          "shell.execute_reply.started": "2025-06-11T23:15:55.032839Z"
        },
        "id": "pBi0LaZ-Gbz3",
        "trusted": true
      },
      "outputs": [],
      "source": [
        "train_data = pd.read_csv('/kaggle/input/ag-news-classification-dataset/train.csv', header=0,names=['ID','Title','Desc'])\n",
        "test_data = pd.read_csv('/kaggle/input/ag-news-classification-dataset/test.csv', header=0,names=['ID','Title','Desc'])"
      ]
    },
    {
      "cell_type": "code",
      "execution_count": 5,
      "metadata": {
        "colab": {
          "base_uri": "https://localhost:8080/"
        },
        "execution": {
          "iopub.execute_input": "2025-06-11T23:01:22.690379Z",
          "iopub.status.busy": "2025-06-11T23:01:22.69012Z",
          "iopub.status.idle": "2025-06-11T23:01:22.70001Z",
          "shell.execute_reply": "2025-06-11T23:01:22.699186Z",
          "shell.execute_reply.started": "2025-06-11T23:01:22.690359Z"
        },
        "id": "B0hbroUgGbz3",
        "outputId": "1b7ac3c1-398b-4aa9-8c87-dd358fef84a3",
        "trusted": true
      },
      "outputs": [
        {
          "name": "stdout",
          "output_type": "stream",
          "text": [
            "   ID                                              Title  \\\n",
            "0   3  Wall St. Bears Claw Back Into the Black (Reuters)   \n",
            "1   3  Carlyle Looks Toward Commercial Aerospace (Reu...   \n",
            "2   3    Oil and Economy Cloud Stocks' Outlook (Reuters)   \n",
            "3   3  Iraq Halts Oil Exports from Main Southern Pipe...   \n",
            "4   3  Oil prices soar to all-time record, posing new...   \n",
            "\n",
            "                                                Desc  \n",
            "0  Reuters - Short-sellers, Wall Street's dwindli...  \n",
            "1  Reuters - Private investment firm Carlyle Grou...  \n",
            "2  Reuters - Soaring crude prices plus worries\\ab...  \n",
            "3  Reuters - Authorities have halted oil export\\f...  \n",
            "4  AFP - Tearaway world oil prices, toppling reco...  \n"
          ]
        }
      ],
      "source": [
        "print(train_data[:5])"
      ]
    },
    {
      "cell_type": "code",
      "execution_count": 6,
      "metadata": {
        "execution": {
          "iopub.execute_input": "2025-06-11T23:15:58.980845Z",
          "iopub.status.busy": "2025-06-11T23:15:58.980079Z",
          "iopub.status.idle": "2025-06-11T23:15:59.036872Z",
          "shell.execute_reply": "2025-06-11T23:15:59.036096Z",
          "shell.execute_reply.started": "2025-06-11T23:15:58.980818Z"
        },
        "id": "_g_fO67pGbz3",
        "trusted": true
      },
      "outputs": [],
      "source": [
        "train_data['text'] = train_data['Title'] + ' ' + train_data['Desc']\n",
        "test_data['text'] = test_data['Title'] + ' ' + test_data['Desc']"
      ]
    },
    {
      "cell_type": "code",
      "execution_count": 7,
      "metadata": {
        "colab": {
          "base_uri": "https://localhost:8080/"
        },
        "execution": {
          "iopub.execute_input": "2025-06-11T23:06:59.431742Z",
          "iopub.status.busy": "2025-06-11T23:06:59.430963Z",
          "iopub.status.idle": "2025-06-11T23:06:59.499924Z",
          "shell.execute_reply": "2025-06-11T23:06:59.498938Z",
          "shell.execute_reply.started": "2025-06-11T23:06:59.431712Z"
        },
        "id": "5JPNyqkgGbz4",
        "outputId": "367f2650-7652-4cbd-b862-537578e10c5d",
        "trusted": true
      },
      "outputs": [
        {
          "name": "stdout",
          "output_type": "stream",
          "text": [
            "\n",
            "=== Class 1 ===\n",
            "- Explosion Rocks Baghdad Neighborhood BAGHDAD, Iraq, August 24 -- A car bomb exploded near the gate of a US-funded Iraqi television network in Baghdad on Tuesday, killing at least two people and wounding two others, authorities and witnesses said.\n",
            "- BBC reporters' log BBC correspondents record events in the Middle East and their thoughts as the funeral of the Palestinian leader Yasser Arafat takes place.\n",
            "- Israel welcomes Rice nomination; Palestinians wary Israel on Tuesday warmly welcomed the naming of Condoleezza Rice as America #39;s top diplomat, but Palestinians were wary, saying the new Bush administration must put more energy into the quest for Middle East peace.\n",
            "- Medical Journal Calls for a New Drug Watchdog Medical researchers said the U.S. needs a system independent of the F.D.A. to detect harmful effects of drugs already on the market.\n",
            "- Militants Kidnap Relatives of Iraqi Minister-TV Militants have kidnapped two relatives of Iraqi Defense Minister Hazim al-Shalaan and demanded US forces leave the holy city of Najaf, Al Jazeera television reported Wednesday.\n",
            "- US to support democracy WASHINGTON, Sept 18: The United States has said that it would reiterate its support for a  #39;fully functioning #39; democracy in Pakistan if the issue of President Pervez Musharraf keeping or giving \n",
            "- Command Failure Seen at Fault in Beslan Massacre  MOSCOW (Reuters) - Security forces bungled the handling of  Russia's worst hostage drama because nobody was in charge and  special forces were not ready when the shooting started,  security analysts said on Monday.\n",
            "- U.S. groups accuse China of failing to stop intellectual property abuses (Canadian Press) Canadian Press - BEIJING (AP) - Adding to pressure for China to stop rampant product piracy, two major U.S. business groups complained Thursday that abuses are getting worse and warned that lack of patent and copyright protection is hurting high-tech investment.\n",
            "- Kidnappers Release Seven Hostages in Iraq BAGHDAD, Iraq - Kidnappers released two female Italian aid workers and five other hostages Tuesday, raising hopes for at least 18 foreigners still in captivity. But insurgents showed no sign of easing their blood-soaked campaign against the U.S...\n",
            "- Colombian Military Kills Militia Leader A former U.S.-trained Colombian army officer who later joined an outlawed paramilitary group was killed in a clash with army troops Tuesday, the army said.\n",
            "\n",
            "=== Class 2 ===\n",
            "- Three Share Pebble Beach Lead (AP) AP - Former tournament winner Kirk Triplett and PGA Tour rookie Ryan Palmer shot 6-under 66s on Friday and share a one-stroke lead with reigning Nationwide Tour champion Nick Watney after two rounds of the Pebble Beach Invitational.\n",
            "- Friedgen #39;s QB call: Gametime Terrapin quarterbacks Joel Statham and Jordan Steffy will compete the remainder of the week to start Saturday at Clemson. Coach Ralph Friedgen said yesterday his choice will be a  quot;game-time quot; decision.\n",
            "- Receiver to have surgery Thursday, may need ACL repaired Tennessee Titans receiver Tyrone Calico will have surgery Thursday to repair torn cartilage in his left knee and may need to have his anterior cruciate ligament fixed as well, coach Jeff Fisher said Tuesday.\n",
            "- From Russia, with love game NEW YORK -- Whom do we blame for what happened last night -- a Russian woman Svetlana Kuznetsova taking home the US Open tennis championship?\n",
            "- Goosen Does Unthinkable and Gets Woods Thinking When Tiger Woods and Jay Haas faltered, Retief Goosen knew how to finish, with a brilliant six-under-par 64 and a victory at the Tour Championship.\n",
            "- Looking into the mirror It #39;s difficult to know where to start this week, but it might be nice to actually begin by talking about football. Ronaldinho: A symbol of the shift of power in Spanish football?\n",
            "- Martinez Ends Losing Steak as Red Sox Beat Angels (Reuters) Reuters - Pedro Martinez pitched seven\\strong innings to end his losing streak and lead the Boston Red\\Sox to an 8-3 victory over the Anaheim Angels in the second\\game of an American League Division series on Wednesday.\n",
            "- I was robbed, Khorkina tells Russian paper MOSCOW Russia #39;s Svetlana Khorkina, who was second to Carly Patterson of the United States in the women #39;s all-round gymnastics competition, has accused the judges of robbing her of the gold medal, saying  quot;everything was decided in advance.\n",
            "- Chester gives Rush permission to talk with Wales Chester has given Wales permission to talk with Ian Rush about the job as national team coach. A former Liverpool star, Rush took over the League Two team in August and has been mentioned as a successor to Mark Hughes.\n",
            "- Lions Win on Road Again, Beating Giants (AP) AP - Joey Harrington threw two touchdown passes, and Chris Cash made a diving interception in the end zone late in the first half to lead the Detroit Lions to a 28-13 win over the New York Giants on Sunday.\n",
            "\n",
            "=== Class 3 ===\n",
            "- Drug approval process flawed THE US pharmaceutical industry that exports medicines around the world is facing further scrutiny after a survey revealed nearly one-fifth of its government overseers had experienced pressure to approve drugs about which they had reservations.\n",
            "- Stocks: Stocks rise as investors bet on profit reports NEW YORK Stocks rose modestly in light trading on Monday as investors awaited the impending tide of third-quarter profit reports, hopeful the news would override worries about record oil prices and a sputtering US economic recovery.\n",
            "- Another Upgrade Boosts Red Hat Red Hat (NOVL:Nasdaq - news - research) got its second upgrade in two week Tuesday, and promptly leaped northward. In recent trading, shares of the Linux Vendor were up \\$1.42, or 10.6, to \\$14.84 in heavy volume.\n",
            "- Shell bosses in a charm offensive THE senior management of Royal Dutch/Shell is starting a whirlwind tour of shareholders and staff. They aim to boost morale and explain plans to unify the company ahead of the vote on the shake-up at next May #39;s annual general meeting.\n",
            "- Russian Oil Mogul Expects to Lose It All The Russian tycoon Mikhail Khodorkovsky, who has been in jail since October in what many Russians say is Kremlin punishment for political activities, said Thursday that \n",
            "- Sony Ericsson profits from mobile growth Mobile phone maker Sony Ericsson has reported a steep year-on-year incline in revenues for the third quarter, as the public appetite for sophisticated handsets heightens.\n",
            "- Leather industry under threat Despite rapid growth in recent years, China #39;s leather industry still needs to improve the competitiveness to better weather possible impacts from growing international trade barriers, senior industry officials said.\n",
            "- Oil Falls for Fifth Session as Iraq Truce Eases Supply Concern Crude oil futures fell for a fifth session, the longest period in 10 months, as a cease-fire in Najaf eased concern that shipments from Iraq will be disrupted.\n",
            "- Arthritis Drug Vioxx Being Pulled  NEW YORK (Reuters) - The arthritis drug Vioxx, used by 2  million people around the world, is being pulled off the market  after a study confirmed longstanding concerns that it raises  the risk of heart attack and stroke, the manufacturer, Merck    Co. &lt;A HREF=\"http://www.investor.reuters.com/FullQuote.aspx?ticker=MRK.N target=/stocks/quickinfo/fullquote\"&gt;MRK.N&lt;/A&gt;, said on Thursday.\n",
            "- Retail rivals moving to town A town that hasn't had a grocery store for at least a decade may soon have two. A Super Stop  amp; Shop is set to open today on Plymouth Street in Halifax, and about a year from now, Wal-Mart expects to open a nearby ''supercenter quot; that would include a full-scale supermarket.\n",
            "\n",
            "=== Class 4 ===\n",
            "- Study: Spammers use e-mail ID to gain legitimacy Spammers are a key adopter of a technology meant, in part, to fight spam.\n",
            "- Space Capsule Heading Back to Earth DUGWAY PROVING GROUND, Utah Sept. 8, 2004 - A space capsule holding atoms collected from solar wind was en route to a tricky rendezvous with Earth, offering scientists the first material NASA has brought back from space in nearly three decades.\n",
            "- SEC Opens Inquiry Into Google Stock Issue (AP) AP - In another twist to Google Inc.'s public stock offering, the Internet search company said federal regulators have opened an informal inquiry into its failure to register millions of shares.\n",
            "- Swazi rhino hunts to be permitted Wildlife trade talks in Bangkok give Swaziland the green light to export some of its white rhinos and bring in trophy hunters to shoot them.\n",
            "- Skeleton in Mo. Came From Ancient Mammoth (AP) AP - Everything about the bones that turned up in a Grain Valley back yard last summer suggested to scientists that they came from a 50,000-year-old mastodon. But evidence yielded by additional digging has led the experts to conclude they were off-base. The remains are actually those of a mammoth that lived 500,000 to 1 million years ago, according to the scientists.\n",
            "- Coming soon: full-scale DVD format war TOKYO - A full-scale war over DVD formats is only a matter of time - the electronics industry can smell it in the air. As the two opposing camps continue to recruit allies, negotiations are no longer about averting a confrontation.\n",
            "- U.S. Bioterror Plan Frustrates Industry (AP) AP - When President Bush signed Project BioShield into law in July, he said he was immediately making  #36;5.6 billion available to counter such anticipated threats as smallpox genetically engineered to render current vaccines useless.\n",
            "- Nokia and Vodafone link on mobile Java standards Nokia and Vodafone have begun a mobile service architecture initiative to help define the next generation of mobile Java standards.\n",
            "- China Begins Countdown for Next Manned Space Flight By ELAINE KURTENBACH    SHANGHAI, China (AP) -- Chinese astronauts are in the final stages of preparing for a manned space mission that will orbit the globe 14 times before returning to Earth, a state-run newspaper reported Thursday.    The launch, expected sometime this month, will initially send a manned craft, the Shenzhou 5, into an oval orbit that at its closest will be 125 miles from Earth, the Liberation Daily reported, citing \"relevant channels.\"    After circling the earth several times, the ship will enter an orbit at about 220 miles from earth, the report said...\n",
            "- PostgreSQL 8.0 will run on Windows Open-source database to jump from beta testing to production within three months.\n"
          ]
        }
      ],
      "source": [
        "\n",
        "samples = train_data.groupby('ID').sample(10, random_state=42)\n",
        "\n",
        "for class_id in sorted(samples['ID'].unique()):\n",
        "    print(f\"\\n=== Class {class_id} ===\")\n",
        "    for text in samples[samples['ID'] == class_id]['text']:\n",
        "        print(f\"- {text}\")\n"
      ]
    },
    {
      "cell_type": "code",
      "execution_count": 8,
      "metadata": {
        "colab": {
          "base_uri": "https://localhost:8080/",
          "height": 206
        },
        "execution": {
          "iopub.execute_input": "2025-06-11T23:07:08.194352Z",
          "iopub.status.busy": "2025-06-11T23:07:08.194019Z",
          "iopub.status.idle": "2025-06-11T23:07:08.2067Z",
          "shell.execute_reply": "2025-06-11T23:07:08.205789Z",
          "shell.execute_reply.started": "2025-06-11T23:07:08.194327Z"
        },
        "id": "nKgstlSRGbz4",
        "outputId": "b08916e6-33b5-4f1f-c4d0-32e4c1d97bbd",
        "trusted": true
      },
      "outputs": [
        {
          "data": {
            "application/vnd.google.colaboratory.intrinsic+json": {
              "type": "dataframe",
              "variable_name": "train_data"
            },
            "text/html": [
              "\n",
              "  <div id=\"df-7e6fde73-9585-42ba-90d8-bb79228059bc\" class=\"colab-df-container\">\n",
              "    <div>\n",
              "<style scoped>\n",
              "    .dataframe tbody tr th:only-of-type {\n",
              "        vertical-align: middle;\n",
              "    }\n",
              "\n",
              "    .dataframe tbody tr th {\n",
              "        vertical-align: top;\n",
              "    }\n",
              "\n",
              "    .dataframe thead th {\n",
              "        text-align: right;\n",
              "    }\n",
              "</style>\n",
              "<table border=\"1\" class=\"dataframe\">\n",
              "  <thead>\n",
              "    <tr style=\"text-align: right;\">\n",
              "      <th></th>\n",
              "      <th>ID</th>\n",
              "      <th>Title</th>\n",
              "      <th>Desc</th>\n",
              "      <th>text</th>\n",
              "    </tr>\n",
              "  </thead>\n",
              "  <tbody>\n",
              "    <tr>\n",
              "      <th>0</th>\n",
              "      <td>3</td>\n",
              "      <td>Wall St. Bears Claw Back Into the Black (Reuters)</td>\n",
              "      <td>Reuters - Short-sellers, Wall Street's dwindli...</td>\n",
              "      <td>Wall St. Bears Claw Back Into the Black (Reute...</td>\n",
              "    </tr>\n",
              "    <tr>\n",
              "      <th>1</th>\n",
              "      <td>3</td>\n",
              "      <td>Carlyle Looks Toward Commercial Aerospace (Reu...</td>\n",
              "      <td>Reuters - Private investment firm Carlyle Grou...</td>\n",
              "      <td>Carlyle Looks Toward Commercial Aerospace (Reu...</td>\n",
              "    </tr>\n",
              "    <tr>\n",
              "      <th>2</th>\n",
              "      <td>3</td>\n",
              "      <td>Oil and Economy Cloud Stocks' Outlook (Reuters)</td>\n",
              "      <td>Reuters - Soaring crude prices plus worries\\ab...</td>\n",
              "      <td>Oil and Economy Cloud Stocks' Outlook (Reuters...</td>\n",
              "    </tr>\n",
              "    <tr>\n",
              "      <th>3</th>\n",
              "      <td>3</td>\n",
              "      <td>Iraq Halts Oil Exports from Main Southern Pipe...</td>\n",
              "      <td>Reuters - Authorities have halted oil export\\f...</td>\n",
              "      <td>Iraq Halts Oil Exports from Main Southern Pipe...</td>\n",
              "    </tr>\n",
              "    <tr>\n",
              "      <th>4</th>\n",
              "      <td>3</td>\n",
              "      <td>Oil prices soar to all-time record, posing new...</td>\n",
              "      <td>AFP - Tearaway world oil prices, toppling reco...</td>\n",
              "      <td>Oil prices soar to all-time record, posing new...</td>\n",
              "    </tr>\n",
              "  </tbody>\n",
              "</table>\n",
              "</div>\n",
              "    <div class=\"colab-df-buttons\">\n",
              "\n",
              "  <div class=\"colab-df-container\">\n",
              "    <button class=\"colab-df-convert\" onclick=\"convertToInteractive('df-7e6fde73-9585-42ba-90d8-bb79228059bc')\"\n",
              "            title=\"Convert this dataframe to an interactive table.\"\n",
              "            style=\"display:none;\">\n",
              "\n",
              "  <svg xmlns=\"http://www.w3.org/2000/svg\" height=\"24px\" viewBox=\"0 -960 960 960\">\n",
              "    <path d=\"M120-120v-720h720v720H120Zm60-500h600v-160H180v160Zm220 220h160v-160H400v160Zm0 220h160v-160H400v160ZM180-400h160v-160H180v160Zm440 0h160v-160H620v160ZM180-180h160v-160H180v160Zm440 0h160v-160H620v160Z\"/>\n",
              "  </svg>\n",
              "    </button>\n",
              "\n",
              "  <style>\n",
              "    .colab-df-container {\n",
              "      display:flex;\n",
              "      gap: 12px;\n",
              "    }\n",
              "\n",
              "    .colab-df-convert {\n",
              "      background-color: #E8F0FE;\n",
              "      border: none;\n",
              "      border-radius: 50%;\n",
              "      cursor: pointer;\n",
              "      display: none;\n",
              "      fill: #1967D2;\n",
              "      height: 32px;\n",
              "      padding: 0 0 0 0;\n",
              "      width: 32px;\n",
              "    }\n",
              "\n",
              "    .colab-df-convert:hover {\n",
              "      background-color: #E2EBFA;\n",
              "      box-shadow: 0px 1px 2px rgba(60, 64, 67, 0.3), 0px 1px 3px 1px rgba(60, 64, 67, 0.15);\n",
              "      fill: #174EA6;\n",
              "    }\n",
              "\n",
              "    .colab-df-buttons div {\n",
              "      margin-bottom: 4px;\n",
              "    }\n",
              "\n",
              "    [theme=dark] .colab-df-convert {\n",
              "      background-color: #3B4455;\n",
              "      fill: #D2E3FC;\n",
              "    }\n",
              "\n",
              "    [theme=dark] .colab-df-convert:hover {\n",
              "      background-color: #434B5C;\n",
              "      box-shadow: 0px 1px 3px 1px rgba(0, 0, 0, 0.15);\n",
              "      filter: drop-shadow(0px 1px 2px rgba(0, 0, 0, 0.3));\n",
              "      fill: #FFFFFF;\n",
              "    }\n",
              "  </style>\n",
              "\n",
              "    <script>\n",
              "      const buttonEl =\n",
              "        document.querySelector('#df-7e6fde73-9585-42ba-90d8-bb79228059bc button.colab-df-convert');\n",
              "      buttonEl.style.display =\n",
              "        google.colab.kernel.accessAllowed ? 'block' : 'none';\n",
              "\n",
              "      async function convertToInteractive(key) {\n",
              "        const element = document.querySelector('#df-7e6fde73-9585-42ba-90d8-bb79228059bc');\n",
              "        const dataTable =\n",
              "          await google.colab.kernel.invokeFunction('convertToInteractive',\n",
              "                                                    [key], {});\n",
              "        if (!dataTable) return;\n",
              "\n",
              "        const docLinkHtml = 'Like what you see? Visit the ' +\n",
              "          '<a target=\"_blank\" href=https://colab.research.google.com/notebooks/data_table.ipynb>data table notebook</a>'\n",
              "          + ' to learn more about interactive tables.';\n",
              "        element.innerHTML = '';\n",
              "        dataTable['output_type'] = 'display_data';\n",
              "        await google.colab.output.renderOutput(dataTable, element);\n",
              "        const docLink = document.createElement('div');\n",
              "        docLink.innerHTML = docLinkHtml;\n",
              "        element.appendChild(docLink);\n",
              "      }\n",
              "    </script>\n",
              "  </div>\n",
              "\n",
              "\n",
              "    <div id=\"df-d8fa3ac9-b926-4177-8fa4-4fabeec4b253\">\n",
              "      <button class=\"colab-df-quickchart\" onclick=\"quickchart('df-d8fa3ac9-b926-4177-8fa4-4fabeec4b253')\"\n",
              "                title=\"Suggest charts\"\n",
              "                style=\"display:none;\">\n",
              "\n",
              "<svg xmlns=\"http://www.w3.org/2000/svg\" height=\"24px\"viewBox=\"0 0 24 24\"\n",
              "     width=\"24px\">\n",
              "    <g>\n",
              "        <path d=\"M19 3H5c-1.1 0-2 .9-2 2v14c0 1.1.9 2 2 2h14c1.1 0 2-.9 2-2V5c0-1.1-.9-2-2-2zM9 17H7v-7h2v7zm4 0h-2V7h2v10zm4 0h-2v-4h2v4z\"/>\n",
              "    </g>\n",
              "</svg>\n",
              "      </button>\n",
              "\n",
              "<style>\n",
              "  .colab-df-quickchart {\n",
              "      --bg-color: #E8F0FE;\n",
              "      --fill-color: #1967D2;\n",
              "      --hover-bg-color: #E2EBFA;\n",
              "      --hover-fill-color: #174EA6;\n",
              "      --disabled-fill-color: #AAA;\n",
              "      --disabled-bg-color: #DDD;\n",
              "  }\n",
              "\n",
              "  [theme=dark] .colab-df-quickchart {\n",
              "      --bg-color: #3B4455;\n",
              "      --fill-color: #D2E3FC;\n",
              "      --hover-bg-color: #434B5C;\n",
              "      --hover-fill-color: #FFFFFF;\n",
              "      --disabled-bg-color: #3B4455;\n",
              "      --disabled-fill-color: #666;\n",
              "  }\n",
              "\n",
              "  .colab-df-quickchart {\n",
              "    background-color: var(--bg-color);\n",
              "    border: none;\n",
              "    border-radius: 50%;\n",
              "    cursor: pointer;\n",
              "    display: none;\n",
              "    fill: var(--fill-color);\n",
              "    height: 32px;\n",
              "    padding: 0;\n",
              "    width: 32px;\n",
              "  }\n",
              "\n",
              "  .colab-df-quickchart:hover {\n",
              "    background-color: var(--hover-bg-color);\n",
              "    box-shadow: 0 1px 2px rgba(60, 64, 67, 0.3), 0 1px 3px 1px rgba(60, 64, 67, 0.15);\n",
              "    fill: var(--button-hover-fill-color);\n",
              "  }\n",
              "\n",
              "  .colab-df-quickchart-complete:disabled,\n",
              "  .colab-df-quickchart-complete:disabled:hover {\n",
              "    background-color: var(--disabled-bg-color);\n",
              "    fill: var(--disabled-fill-color);\n",
              "    box-shadow: none;\n",
              "  }\n",
              "\n",
              "  .colab-df-spinner {\n",
              "    border: 2px solid var(--fill-color);\n",
              "    border-color: transparent;\n",
              "    border-bottom-color: var(--fill-color);\n",
              "    animation:\n",
              "      spin 1s steps(1) infinite;\n",
              "  }\n",
              "\n",
              "  @keyframes spin {\n",
              "    0% {\n",
              "      border-color: transparent;\n",
              "      border-bottom-color: var(--fill-color);\n",
              "      border-left-color: var(--fill-color);\n",
              "    }\n",
              "    20% {\n",
              "      border-color: transparent;\n",
              "      border-left-color: var(--fill-color);\n",
              "      border-top-color: var(--fill-color);\n",
              "    }\n",
              "    30% {\n",
              "      border-color: transparent;\n",
              "      border-left-color: var(--fill-color);\n",
              "      border-top-color: var(--fill-color);\n",
              "      border-right-color: var(--fill-color);\n",
              "    }\n",
              "    40% {\n",
              "      border-color: transparent;\n",
              "      border-right-color: var(--fill-color);\n",
              "      border-top-color: var(--fill-color);\n",
              "    }\n",
              "    60% {\n",
              "      border-color: transparent;\n",
              "      border-right-color: var(--fill-color);\n",
              "    }\n",
              "    80% {\n",
              "      border-color: transparent;\n",
              "      border-right-color: var(--fill-color);\n",
              "      border-bottom-color: var(--fill-color);\n",
              "    }\n",
              "    90% {\n",
              "      border-color: transparent;\n",
              "      border-bottom-color: var(--fill-color);\n",
              "    }\n",
              "  }\n",
              "</style>\n",
              "\n",
              "      <script>\n",
              "        async function quickchart(key) {\n",
              "          const quickchartButtonEl =\n",
              "            document.querySelector('#' + key + ' button');\n",
              "          quickchartButtonEl.disabled = true;  // To prevent multiple clicks.\n",
              "          quickchartButtonEl.classList.add('colab-df-spinner');\n",
              "          try {\n",
              "            const charts = await google.colab.kernel.invokeFunction(\n",
              "                'suggestCharts', [key], {});\n",
              "          } catch (error) {\n",
              "            console.error('Error during call to suggestCharts:', error);\n",
              "          }\n",
              "          quickchartButtonEl.classList.remove('colab-df-spinner');\n",
              "          quickchartButtonEl.classList.add('colab-df-quickchart-complete');\n",
              "        }\n",
              "        (() => {\n",
              "          let quickchartButtonEl =\n",
              "            document.querySelector('#df-d8fa3ac9-b926-4177-8fa4-4fabeec4b253 button');\n",
              "          quickchartButtonEl.style.display =\n",
              "            google.colab.kernel.accessAllowed ? 'block' : 'none';\n",
              "        })();\n",
              "      </script>\n",
              "    </div>\n",
              "\n",
              "    </div>\n",
              "  </div>\n"
            ],
            "text/plain": [
              "   ID                                              Title  \\\n",
              "0   3  Wall St. Bears Claw Back Into the Black (Reuters)   \n",
              "1   3  Carlyle Looks Toward Commercial Aerospace (Reu...   \n",
              "2   3    Oil and Economy Cloud Stocks' Outlook (Reuters)   \n",
              "3   3  Iraq Halts Oil Exports from Main Southern Pipe...   \n",
              "4   3  Oil prices soar to all-time record, posing new...   \n",
              "\n",
              "                                                Desc  \\\n",
              "0  Reuters - Short-sellers, Wall Street's dwindli...   \n",
              "1  Reuters - Private investment firm Carlyle Grou...   \n",
              "2  Reuters - Soaring crude prices plus worries\\ab...   \n",
              "3  Reuters - Authorities have halted oil export\\f...   \n",
              "4  AFP - Tearaway world oil prices, toppling reco...   \n",
              "\n",
              "                                                text  \n",
              "0  Wall St. Bears Claw Back Into the Black (Reute...  \n",
              "1  Carlyle Looks Toward Commercial Aerospace (Reu...  \n",
              "2  Oil and Economy Cloud Stocks' Outlook (Reuters...  \n",
              "3  Iraq Halts Oil Exports from Main Southern Pipe...  \n",
              "4  Oil prices soar to all-time record, posing new...  "
            ]
          },
          "execution_count": 8,
          "metadata": {},
          "output_type": "execute_result"
        }
      ],
      "source": [
        "train_data.head()"
      ]
    },
    {
      "cell_type": "code",
      "execution_count": 9,
      "metadata": {
        "colab": {
          "base_uri": "https://localhost:8080/"
        },
        "execution": {
          "iopub.execute_input": "2025-06-11T23:07:08.750625Z",
          "iopub.status.busy": "2025-06-11T23:07:08.750325Z",
          "iopub.status.idle": "2025-06-11T23:07:08.755302Z",
          "shell.execute_reply": "2025-06-11T23:07:08.754497Z",
          "shell.execute_reply.started": "2025-06-11T23:07:08.750603Z"
        },
        "id": "_VMMEv0dGbz4",
        "outputId": "97c2c162-a98e-4929-a528-b056a15650b9",
        "trusted": true
      },
      "outputs": [
        {
          "name": "stdout",
          "output_type": "stream",
          "text": [
            "Britain Approves Human Cloning By EMMA ROSS     LONDON (AP) -- Britain granted its first license for human cloning Wednesday, more than three years after becoming the first nation to authorize the technique to produce stem cells for medical research.    A team of researchers at Newcastle University hope eventually to create insulin-producing cells that could be transplanted into diabetic patients...\n"
          ]
        }
      ],
      "source": [
        "print(train_data['text'][300])"
      ]
    },
    {
      "cell_type": "code",
      "execution_count": 10,
      "metadata": {
        "colab": {
          "base_uri": "https://localhost:8080/",
          "height": 206
        },
        "execution": {
          "iopub.execute_input": "2025-06-11T23:07:10.24951Z",
          "iopub.status.busy": "2025-06-11T23:07:10.249171Z",
          "iopub.status.idle": "2025-06-11T23:07:10.258646Z",
          "shell.execute_reply": "2025-06-11T23:07:10.257719Z",
          "shell.execute_reply.started": "2025-06-11T23:07:10.249486Z"
        },
        "id": "6vXvo90WGbz4",
        "outputId": "e34794b2-3f08-4ccd-ba17-dff975a52f2c",
        "trusted": true
      },
      "outputs": [
        {
          "data": {
            "application/vnd.google.colaboratory.intrinsic+json": {
              "summary": "{\n  \"name\": \"test_data\",\n  \"rows\": 7600,\n  \"fields\": [\n    {\n      \"column\": \"ID\",\n      \"properties\": {\n        \"dtype\": \"number\",\n        \"std\": 1,\n        \"min\": 1,\n        \"max\": 4,\n        \"num_unique_values\": 4,\n        \"samples\": [\n          4,\n          1,\n          3\n        ],\n        \"semantic_type\": \"\",\n        \"description\": \"\"\n      }\n    },\n    {\n      \"column\": \"Title\",\n      \"properties\": {\n        \"dtype\": \"string\",\n        \"num_unique_values\": 7568,\n        \"samples\": [\n          \"'Nano-needle' operates on cell\",\n          \"Russia Says Attack Was To Ignite Regional War\",\n          \"Olympics-Five sports on shortlist for possible Games inclusion\"\n        ],\n        \"semantic_type\": \"\",\n        \"description\": \"\"\n      }\n    },\n    {\n      \"column\": \"Desc\",\n      \"properties\": {\n        \"dtype\": \"string\",\n        \"num_unique_values\": 7594,\n        \"samples\": [\n          \"By Karen Pallarito, HealthDay Reporter    HealthDayNews -- Determined this cold season to nip your sneezing, runny nose and scratchy throat in the bud before those nasty respiratory symptoms sideline you?    There's a broad array of cold remedies you might want to try, ranging from over-the-counter preparations to basic ingredients tucked away in your kitchen pantry.    So what'll it be? A combination pain reliever and nasal decongestant? Vitamin C and echinacea? Tea with honey? A brimming bowl of chicken soup?     It turns out the best advice for dealing with the misery of a cold is the same principle mothers often apply when trying to coax their unruly toddlers to take a nap: Whatever works...\",\n          \"Hewlett-Packard Co. (HPQ.N: Quote, Profile, Research) and Intel Corp. (INTC.O: Quote, Profile, Research) on Wednesday ended their 10-year partnership to co-develop the Itanium chip \",\n          \"Japan #39;s baseball players averted a second strike this weekend after agreeing that a new team will be allowed to join Japanese professional baseball next season.\"\n        ],\n        \"semantic_type\": \"\",\n        \"description\": \"\"\n      }\n    },\n    {\n      \"column\": \"text\",\n      \"properties\": {\n        \"dtype\": \"string\",\n        \"num_unique_values\": 7600,\n        \"samples\": [\n          \"Fan v Fan: Manchester City-Tottenham Hotspur This weekend Manchester City entertain Spurs, and with last seasons seven-goal FA Cup epic between the two teams still fresh in the memory, entertain could be the operative word.\",\n          \"Paris Tourists Search for Key to 'Da Vinci Code' (Reuters) Reuters - A funny thing happened on the way to the\\\\Mona Lisa. Visitors to the Louvre museum in Paris, home of the\\\\world's most famous painting, started quizzing tour guides\\\\about Dan Brown's best-selling novel \\\"The Da Vinci Code.\\\"\",\n          \"Net firms: Don't tax VoIP The Spanish-American War is over and a \\\"temporary\\\" tax created to pay for it should not be extended to Internet phone calls, industry groups tell the IRS\"\n        ],\n        \"semantic_type\": \"\",\n        \"description\": \"\"\n      }\n    }\n  ]\n}",
              "type": "dataframe",
              "variable_name": "test_data"
            },
            "text/html": [
              "\n",
              "  <div id=\"df-a16ecc5e-d8bf-4e42-a3eb-0000e7a7f9bd\" class=\"colab-df-container\">\n",
              "    <div>\n",
              "<style scoped>\n",
              "    .dataframe tbody tr th:only-of-type {\n",
              "        vertical-align: middle;\n",
              "    }\n",
              "\n",
              "    .dataframe tbody tr th {\n",
              "        vertical-align: top;\n",
              "    }\n",
              "\n",
              "    .dataframe thead th {\n",
              "        text-align: right;\n",
              "    }\n",
              "</style>\n",
              "<table border=\"1\" class=\"dataframe\">\n",
              "  <thead>\n",
              "    <tr style=\"text-align: right;\">\n",
              "      <th></th>\n",
              "      <th>ID</th>\n",
              "      <th>Title</th>\n",
              "      <th>Desc</th>\n",
              "      <th>text</th>\n",
              "    </tr>\n",
              "  </thead>\n",
              "  <tbody>\n",
              "    <tr>\n",
              "      <th>0</th>\n",
              "      <td>3</td>\n",
              "      <td>Fears for T N pension after talks</td>\n",
              "      <td>Unions representing workers at Turner   Newall...</td>\n",
              "      <td>Fears for T N pension after talks Unions repre...</td>\n",
              "    </tr>\n",
              "    <tr>\n",
              "      <th>1</th>\n",
              "      <td>4</td>\n",
              "      <td>The Race is On: Second Private Team Sets Launc...</td>\n",
              "      <td>SPACE.com - TORONTO, Canada -- A second\\team o...</td>\n",
              "      <td>The Race is On: Second Private Team Sets Launc...</td>\n",
              "    </tr>\n",
              "    <tr>\n",
              "      <th>2</th>\n",
              "      <td>4</td>\n",
              "      <td>Ky. Company Wins Grant to Study Peptides (AP)</td>\n",
              "      <td>AP - A company founded by a chemistry research...</td>\n",
              "      <td>Ky. Company Wins Grant to Study Peptides (AP) ...</td>\n",
              "    </tr>\n",
              "    <tr>\n",
              "      <th>3</th>\n",
              "      <td>4</td>\n",
              "      <td>Prediction Unit Helps Forecast Wildfires (AP)</td>\n",
              "      <td>AP - It's barely dawn when Mike Fitzpatrick st...</td>\n",
              "      <td>Prediction Unit Helps Forecast Wildfires (AP) ...</td>\n",
              "    </tr>\n",
              "    <tr>\n",
              "      <th>4</th>\n",
              "      <td>4</td>\n",
              "      <td>Calif. Aims to Limit Farm-Related Smog (AP)</td>\n",
              "      <td>AP - Southern California's smog-fighting agenc...</td>\n",
              "      <td>Calif. Aims to Limit Farm-Related Smog (AP) AP...</td>\n",
              "    </tr>\n",
              "  </tbody>\n",
              "</table>\n",
              "</div>\n",
              "    <div class=\"colab-df-buttons\">\n",
              "\n",
              "  <div class=\"colab-df-container\">\n",
              "    <button class=\"colab-df-convert\" onclick=\"convertToInteractive('df-a16ecc5e-d8bf-4e42-a3eb-0000e7a7f9bd')\"\n",
              "            title=\"Convert this dataframe to an interactive table.\"\n",
              "            style=\"display:none;\">\n",
              "\n",
              "  <svg xmlns=\"http://www.w3.org/2000/svg\" height=\"24px\" viewBox=\"0 -960 960 960\">\n",
              "    <path d=\"M120-120v-720h720v720H120Zm60-500h600v-160H180v160Zm220 220h160v-160H400v160Zm0 220h160v-160H400v160ZM180-400h160v-160H180v160Zm440 0h160v-160H620v160ZM180-180h160v-160H180v160Zm440 0h160v-160H620v160Z\"/>\n",
              "  </svg>\n",
              "    </button>\n",
              "\n",
              "  <style>\n",
              "    .colab-df-container {\n",
              "      display:flex;\n",
              "      gap: 12px;\n",
              "    }\n",
              "\n",
              "    .colab-df-convert {\n",
              "      background-color: #E8F0FE;\n",
              "      border: none;\n",
              "      border-radius: 50%;\n",
              "      cursor: pointer;\n",
              "      display: none;\n",
              "      fill: #1967D2;\n",
              "      height: 32px;\n",
              "      padding: 0 0 0 0;\n",
              "      width: 32px;\n",
              "    }\n",
              "\n",
              "    .colab-df-convert:hover {\n",
              "      background-color: #E2EBFA;\n",
              "      box-shadow: 0px 1px 2px rgba(60, 64, 67, 0.3), 0px 1px 3px 1px rgba(60, 64, 67, 0.15);\n",
              "      fill: #174EA6;\n",
              "    }\n",
              "\n",
              "    .colab-df-buttons div {\n",
              "      margin-bottom: 4px;\n",
              "    }\n",
              "\n",
              "    [theme=dark] .colab-df-convert {\n",
              "      background-color: #3B4455;\n",
              "      fill: #D2E3FC;\n",
              "    }\n",
              "\n",
              "    [theme=dark] .colab-df-convert:hover {\n",
              "      background-color: #434B5C;\n",
              "      box-shadow: 0px 1px 3px 1px rgba(0, 0, 0, 0.15);\n",
              "      filter: drop-shadow(0px 1px 2px rgba(0, 0, 0, 0.3));\n",
              "      fill: #FFFFFF;\n",
              "    }\n",
              "  </style>\n",
              "\n",
              "    <script>\n",
              "      const buttonEl =\n",
              "        document.querySelector('#df-a16ecc5e-d8bf-4e42-a3eb-0000e7a7f9bd button.colab-df-convert');\n",
              "      buttonEl.style.display =\n",
              "        google.colab.kernel.accessAllowed ? 'block' : 'none';\n",
              "\n",
              "      async function convertToInteractive(key) {\n",
              "        const element = document.querySelector('#df-a16ecc5e-d8bf-4e42-a3eb-0000e7a7f9bd');\n",
              "        const dataTable =\n",
              "          await google.colab.kernel.invokeFunction('convertToInteractive',\n",
              "                                                    [key], {});\n",
              "        if (!dataTable) return;\n",
              "\n",
              "        const docLinkHtml = 'Like what you see? Visit the ' +\n",
              "          '<a target=\"_blank\" href=https://colab.research.google.com/notebooks/data_table.ipynb>data table notebook</a>'\n",
              "          + ' to learn more about interactive tables.';\n",
              "        element.innerHTML = '';\n",
              "        dataTable['output_type'] = 'display_data';\n",
              "        await google.colab.output.renderOutput(dataTable, element);\n",
              "        const docLink = document.createElement('div');\n",
              "        docLink.innerHTML = docLinkHtml;\n",
              "        element.appendChild(docLink);\n",
              "      }\n",
              "    </script>\n",
              "  </div>\n",
              "\n",
              "\n",
              "    <div id=\"df-302fe81b-145c-4d82-afb3-8ccde01575aa\">\n",
              "      <button class=\"colab-df-quickchart\" onclick=\"quickchart('df-302fe81b-145c-4d82-afb3-8ccde01575aa')\"\n",
              "                title=\"Suggest charts\"\n",
              "                style=\"display:none;\">\n",
              "\n",
              "<svg xmlns=\"http://www.w3.org/2000/svg\" height=\"24px\"viewBox=\"0 0 24 24\"\n",
              "     width=\"24px\">\n",
              "    <g>\n",
              "        <path d=\"M19 3H5c-1.1 0-2 .9-2 2v14c0 1.1.9 2 2 2h14c1.1 0 2-.9 2-2V5c0-1.1-.9-2-2-2zM9 17H7v-7h2v7zm4 0h-2V7h2v10zm4 0h-2v-4h2v4z\"/>\n",
              "    </g>\n",
              "</svg>\n",
              "      </button>\n",
              "\n",
              "<style>\n",
              "  .colab-df-quickchart {\n",
              "      --bg-color: #E8F0FE;\n",
              "      --fill-color: #1967D2;\n",
              "      --hover-bg-color: #E2EBFA;\n",
              "      --hover-fill-color: #174EA6;\n",
              "      --disabled-fill-color: #AAA;\n",
              "      --disabled-bg-color: #DDD;\n",
              "  }\n",
              "\n",
              "  [theme=dark] .colab-df-quickchart {\n",
              "      --bg-color: #3B4455;\n",
              "      --fill-color: #D2E3FC;\n",
              "      --hover-bg-color: #434B5C;\n",
              "      --hover-fill-color: #FFFFFF;\n",
              "      --disabled-bg-color: #3B4455;\n",
              "      --disabled-fill-color: #666;\n",
              "  }\n",
              "\n",
              "  .colab-df-quickchart {\n",
              "    background-color: var(--bg-color);\n",
              "    border: none;\n",
              "    border-radius: 50%;\n",
              "    cursor: pointer;\n",
              "    display: none;\n",
              "    fill: var(--fill-color);\n",
              "    height: 32px;\n",
              "    padding: 0;\n",
              "    width: 32px;\n",
              "  }\n",
              "\n",
              "  .colab-df-quickchart:hover {\n",
              "    background-color: var(--hover-bg-color);\n",
              "    box-shadow: 0 1px 2px rgba(60, 64, 67, 0.3), 0 1px 3px 1px rgba(60, 64, 67, 0.15);\n",
              "    fill: var(--button-hover-fill-color);\n",
              "  }\n",
              "\n",
              "  .colab-df-quickchart-complete:disabled,\n",
              "  .colab-df-quickchart-complete:disabled:hover {\n",
              "    background-color: var(--disabled-bg-color);\n",
              "    fill: var(--disabled-fill-color);\n",
              "    box-shadow: none;\n",
              "  }\n",
              "\n",
              "  .colab-df-spinner {\n",
              "    border: 2px solid var(--fill-color);\n",
              "    border-color: transparent;\n",
              "    border-bottom-color: var(--fill-color);\n",
              "    animation:\n",
              "      spin 1s steps(1) infinite;\n",
              "  }\n",
              "\n",
              "  @keyframes spin {\n",
              "    0% {\n",
              "      border-color: transparent;\n",
              "      border-bottom-color: var(--fill-color);\n",
              "      border-left-color: var(--fill-color);\n",
              "    }\n",
              "    20% {\n",
              "      border-color: transparent;\n",
              "      border-left-color: var(--fill-color);\n",
              "      border-top-color: var(--fill-color);\n",
              "    }\n",
              "    30% {\n",
              "      border-color: transparent;\n",
              "      border-left-color: var(--fill-color);\n",
              "      border-top-color: var(--fill-color);\n",
              "      border-right-color: var(--fill-color);\n",
              "    }\n",
              "    40% {\n",
              "      border-color: transparent;\n",
              "      border-right-color: var(--fill-color);\n",
              "      border-top-color: var(--fill-color);\n",
              "    }\n",
              "    60% {\n",
              "      border-color: transparent;\n",
              "      border-right-color: var(--fill-color);\n",
              "    }\n",
              "    80% {\n",
              "      border-color: transparent;\n",
              "      border-right-color: var(--fill-color);\n",
              "      border-bottom-color: var(--fill-color);\n",
              "    }\n",
              "    90% {\n",
              "      border-color: transparent;\n",
              "      border-bottom-color: var(--fill-color);\n",
              "    }\n",
              "  }\n",
              "</style>\n",
              "\n",
              "      <script>\n",
              "        async function quickchart(key) {\n",
              "          const quickchartButtonEl =\n",
              "            document.querySelector('#' + key + ' button');\n",
              "          quickchartButtonEl.disabled = true;  // To prevent multiple clicks.\n",
              "          quickchartButtonEl.classList.add('colab-df-spinner');\n",
              "          try {\n",
              "            const charts = await google.colab.kernel.invokeFunction(\n",
              "                'suggestCharts', [key], {});\n",
              "          } catch (error) {\n",
              "            console.error('Error during call to suggestCharts:', error);\n",
              "          }\n",
              "          quickchartButtonEl.classList.remove('colab-df-spinner');\n",
              "          quickchartButtonEl.classList.add('colab-df-quickchart-complete');\n",
              "        }\n",
              "        (() => {\n",
              "          let quickchartButtonEl =\n",
              "            document.querySelector('#df-302fe81b-145c-4d82-afb3-8ccde01575aa button');\n",
              "          quickchartButtonEl.style.display =\n",
              "            google.colab.kernel.accessAllowed ? 'block' : 'none';\n",
              "        })();\n",
              "      </script>\n",
              "    </div>\n",
              "\n",
              "    </div>\n",
              "  </div>\n"
            ],
            "text/plain": [
              "   ID                                              Title  \\\n",
              "0   3                  Fears for T N pension after talks   \n",
              "1   4  The Race is On: Second Private Team Sets Launc...   \n",
              "2   4      Ky. Company Wins Grant to Study Peptides (AP)   \n",
              "3   4      Prediction Unit Helps Forecast Wildfires (AP)   \n",
              "4   4        Calif. Aims to Limit Farm-Related Smog (AP)   \n",
              "\n",
              "                                                Desc  \\\n",
              "0  Unions representing workers at Turner   Newall...   \n",
              "1  SPACE.com - TORONTO, Canada -- A second\\team o...   \n",
              "2  AP - A company founded by a chemistry research...   \n",
              "3  AP - It's barely dawn when Mike Fitzpatrick st...   \n",
              "4  AP - Southern California's smog-fighting agenc...   \n",
              "\n",
              "                                                text  \n",
              "0  Fears for T N pension after talks Unions repre...  \n",
              "1  The Race is On: Second Private Team Sets Launc...  \n",
              "2  Ky. Company Wins Grant to Study Peptides (AP) ...  \n",
              "3  Prediction Unit Helps Forecast Wildfires (AP) ...  \n",
              "4  Calif. Aims to Limit Farm-Related Smog (AP) AP...  "
            ]
          },
          "execution_count": 10,
          "metadata": {},
          "output_type": "execute_result"
        }
      ],
      "source": [
        "test_data.head()"
      ]
    },
    {
      "cell_type": "code",
      "execution_count": 11,
      "metadata": {
        "colab": {
          "base_uri": "https://localhost:8080/"
        },
        "execution": {
          "iopub.execute_input": "2025-06-11T23:07:11.717021Z",
          "iopub.status.busy": "2025-06-11T23:07:11.716687Z",
          "iopub.status.idle": "2025-06-11T23:07:11.722079Z",
          "shell.execute_reply": "2025-06-11T23:07:11.721218Z",
          "shell.execute_reply.started": "2025-06-11T23:07:11.716995Z"
        },
        "id": "u_YKv9_5Gbz5",
        "outputId": "ee8f3741-7b1c-4cc4-c69e-12f36d507c67",
        "trusted": true
      },
      "outputs": [
        {
          "name": "stdout",
          "output_type": "stream",
          "text": [
            "Group to Propose New High-Speed Wireless Format  LOS ANGELES (Reuters) - A group of technology companies  including Texas Instruments Inc. &lt;TXN.N&gt;, STMicroelectronics  &lt;STM.PA&gt; and Broadcom Corp. &lt;BRCM.O&gt;, on Thursday said they  will propose a new wireless networking standard up to 10 times  the speed of the current generation.\n"
          ]
        }
      ],
      "source": [
        "print(test_data['text'][10])"
      ]
    },
    {
      "cell_type": "code",
      "execution_count": 12,
      "metadata": {
        "colab": {
          "base_uri": "https://localhost:8080/"
        },
        "execution": {
          "iopub.execute_input": "2025-06-11T23:07:13.499456Z",
          "iopub.status.busy": "2025-06-11T23:07:13.499118Z",
          "iopub.status.idle": "2025-06-11T23:07:13.504089Z",
          "shell.execute_reply": "2025-06-11T23:07:13.503075Z",
          "shell.execute_reply.started": "2025-06-11T23:07:13.499431Z"
        },
        "id": "jbJpl1QQGbz5",
        "outputId": "d6327d00-d037-4e7b-a876-5c501c610c6b",
        "trusted": true
      },
      "outputs": [
        {
          "name": "stdout",
          "output_type": "stream",
          "text": [
            "(120000, 4)\n",
            "(7600, 4)\n"
          ]
        }
      ],
      "source": [
        "print(train_data.shape)\n",
        "print(test_data.shape)"
      ]
    },
    {
      "cell_type": "markdown",
      "metadata": {
        "id": "S3YYyPO2Gbz5"
      },
      "source": [
        "# <p style=\"font-family:Arial;font-size:100%;text-align:center;color:#FF0000;\"> Kiểm tra sự cân bằng giữa các ID </p>"
      ]
    },
    {
      "cell_type": "code",
      "execution_count": 13,
      "metadata": {
        "colab": {
          "base_uri": "https://localhost:8080/",
          "height": 449
        },
        "execution": {
          "iopub.execute_input": "2025-06-11T23:07:15.104016Z",
          "iopub.status.busy": "2025-06-11T23:07:15.103684Z",
          "iopub.status.idle": "2025-06-11T23:07:15.25814Z",
          "shell.execute_reply": "2025-06-11T23:07:15.25726Z",
          "shell.execute_reply.started": "2025-06-11T23:07:15.103993Z"
        },
        "id": "Ekm7CG1RGbz5",
        "outputId": "c3b95a1b-540a-4f65-9e99-8af6836721e5",
        "trusted": true
      },
      "outputs": [
        {
          "data": {
            "image/png": "[encoded data removed]",
            "text/plain": [
              "<Figure size 640x480 with 1 Axes>"
            ]
          },
          "metadata": {},
          "output_type": "display_data"
        }
      ],
      "source": [
        "sns.countplot(x = 'ID', data = train_data)\n",
        "plt.show()"
      ]
    },
    {
      "cell_type": "code",
      "execution_count": 14,
      "metadata": {
        "colab": {
          "base_uri": "https://localhost:8080/",
          "height": 449
        },
        "execution": {
          "iopub.execute_input": "2025-06-11T23:07:16.685719Z",
          "iopub.status.busy": "2025-06-11T23:07:16.68539Z",
          "iopub.status.idle": "2025-06-11T23:07:16.877814Z",
          "shell.execute_reply": "2025-06-11T23:07:16.876767Z",
          "shell.execute_reply.started": "2025-06-11T23:07:16.685696Z"
        },
        "id": "UH2a5FSgGbz5",
        "outputId": "51da3ae0-6759-4dbe-ad76-40e7407c6554",
        "trusted": true
      },
      "outputs": [
        {
          "data": {
            "image/png": "[encoded data removed]",
            "text/plain": [
              "<Figure size 640x480 with 1 Axes>"
            ]
          },
          "metadata": {},
          "output_type": "display_data"
        }
      ],
      "source": [
        "sns.countplot(x = 'ID', data = test_data)\n",
        "plt.show()"
      ]
    },
    {
      "cell_type": "code",
      "execution_count": 15,
      "metadata": {
        "colab": {
          "base_uri": "https://localhost:8080/",
          "height": 1000
        },
        "execution": {
          "iopub.execute_input": "2025-06-11T23:16:35.665772Z",
          "iopub.status.busy": "2025-06-11T23:16:35.664934Z",
          "iopub.status.idle": "2025-06-11T23:17:00.025963Z",
          "shell.execute_reply": "2025-06-11T23:17:00.025167Z",
          "shell.execute_reply.started": "2025-06-11T23:16:35.665743Z"
        },
        "id": "4xi2POrqGbz5",
        "outputId": "526ec6f7-9c35-4b56-f147-39cb0d0e18b4",
        "trusted": true
      },
      "outputs": [
        {
          "name": "stderr",
          "output_type": "stream",
          "text": [
            "[nltk_data] Downloading package punkt_tab to /root/nltk_data...\n",
            "[nltk_data]   Unzipping tokenizers/punkt_tab.zip.\n",
            "[nltk_data] Downloading package stopwords to /root/nltk_data...\n",
            "[nltk_data]   Unzipping corpora/stopwords.zip.\n"
          ]
        },
        {
          "data": {
            "image/png": "[encoded data removed]",
            "text/plain": [
              "<Figure size 1000x400 with 1 Axes>"
            ]
          },
          "metadata": {},
          "output_type": "display_data"
        },
        {
          "data": {
            "image/png": "[encoded data removed]",
            "text/plain": [
              "<Figure size 1000x400 with 1 Axes>"
            ]
          },
          "metadata": {},
          "output_type": "display_data"
        },
        {
          "data": {
            "image/png": "[encoded data removed]",
            "text/plain": [
              "<Figure size 1000x400 with 1 Axes>"
            ]
          },
          "metadata": {},
          "output_type": "display_data"
        },
        {
          "data": {
            "image/png": "[encoded data removed]",
            "text/plain": [
              "<Figure size 1000x400 with 1 Axes>"
            ]
          },
          "metadata": {},
          "output_type": "display_data"
        }
      ],
      "source": [
        "from collections import Counter\n",
        "\n",
        "nltk.download('punkt_tab')\n",
        "nltk.download('stopwords')\n",
        "stop_words = set(stopwords.words('english'))\n",
        "def preprocess(text):\n",
        "    text = text.lower()\n",
        "    text = text.translate(str.maketrans('', '', string.punctuation))\n",
        "    tokens = nltk.word_tokenize(text)\n",
        "    filtered_tokens = [word for word in tokens if word not in stop_words and word.isalpha()]\n",
        "    return filtered_tokens\n",
        "\n",
        "for label in sorted(train_data['ID'].unique()):\n",
        "    subset = train_data[train_data['ID'] == label]\n",
        "    all_tokens = []\n",
        "    for doc in subset['text']:\n",
        "        all_tokens.extend(preprocess(doc))\n",
        "    word_freq = Counter(all_tokens)\n",
        "    most_common = word_freq.most_common(20)\n",
        "\n",
        "    words, freqs = zip(*most_common)\n",
        "    plt.figure(figsize=(10, 4))\n",
        "    plt.bar(words, freqs, color='skyblue')\n",
        "    plt.title(f'Top 20 từ phổ biến cho lớp ID = {label}')\n",
        "    plt.xticks(rotation=45)\n",
        "    plt.tight_layout()\n",
        "    plt.show()"
      ]
    },
    {
      "cell_type": "markdown",
      "metadata": {
        "id": "hk6bMa4bGbz6"
      },
      "source": [
        "# <p style=\"font-family:Arial;font-size:150%;text-align:center;color:#FF0000;\"> Data Processing</p>"
      ]
    },
    {
      "cell_type": "code",
      "execution_count": 16,
      "metadata": {
        "execution": {
          "iopub.execute_input": "2025-06-11T23:10:20.173433Z",
          "iopub.status.busy": "2025-06-11T23:10:20.172825Z",
          "iopub.status.idle": "2025-06-11T23:10:20.17787Z",
          "shell.execute_reply": "2025-06-11T23:10:20.176893Z",
          "shell.execute_reply.started": "2025-06-11T23:10:20.173404Z"
        },
        "id": "x1mrLORfGbz6",
        "trusted": true
      },
      "outputs": [],
      "source": [
        "\n",
        "train_x = train_data.text[:60000]\n",
        "test_x = test_data.text\n",
        "train_y = train_data.ID[:60000]\n",
        "test_y = test_data.ID"
      ]
    },
    {
      "cell_type": "markdown",
      "metadata": {
        "id": "PuV6VG07Gbz6"
      },
      "source": [
        "# <p style=\"font-family:Arial;font-size:100%;text-align:center;color:#FF0000;\"> Xóa các kí hiệu trong HTML</p>"
      ]
    },
    {
      "cell_type": "code",
      "execution_count": 17,
      "metadata": {
        "execution": {
          "iopub.execute_input": "2025-06-11T23:10:20.728334Z",
          "iopub.status.busy": "2025-06-11T23:10:20.727511Z",
          "iopub.status.idle": "2025-06-11T23:10:20.792591Z",
          "shell.execute_reply": "2025-06-11T23:10:20.791616Z",
          "shell.execute_reply.started": "2025-06-11T23:10:20.728304Z"
        },
        "id": "HiaAvz-fGbz6",
        "trusted": true
      },
      "outputs": [],
      "source": [
        "def xoa_html(text):\n",
        "    html=re.compile('<.*?')\n",
        "    cleaned_text=html.sub('',text)\n",
        "    return cleaned_text\n",
        "train_x = train_x.apply(xoa_html)\n",
        "test_x = test_x.apply(xoa_html)"
      ]
    },
    {
      "cell_type": "markdown",
      "metadata": {
        "id": "YIPSVeveGbz6"
      },
      "source": [
        "# <p style=\"font-family:Arial;font-size:100%;text-align:center;color:#FF0000;\"> Xóa các kí hiệu URL</p>"
      ]
    },
    {
      "cell_type": "code",
      "execution_count": 18,
      "metadata": {
        "execution": {
          "iopub.execute_input": "2025-06-11T23:10:21.295849Z",
          "iopub.status.busy": "2025-06-11T23:10:21.294943Z",
          "iopub.status.idle": "2025-06-11T23:10:21.484301Z",
          "shell.execute_reply": "2025-06-11T23:10:21.483285Z",
          "shell.execute_reply.started": "2025-06-11T23:10:21.295817Z"
        },
        "id": "nf1DwAalGbz6",
        "trusted": true
      },
      "outputs": [],
      "source": [
        "def xoa_url(text):\n",
        "    \"\"\"\n",
        "    Câu regex này sẽ tìm các URL trong chuỗi theo hai định dạng:\n",
        "    Bắt đầu bằng http:// hoặc https://\n",
        "    Bắt đầu bằng www.\n",
        "    \"\"\"\n",
        "    url=re.compile(r'https?://\\S+|www\\.\\S+')\n",
        "    return url.sub('',text)\n",
        "train_x = train_x.apply(xoa_url)\n",
        "test_x = test_x.apply(xoa_url)"
      ]
    },
    {
      "cell_type": "code",
      "execution_count": 19,
      "metadata": {
        "colab": {
          "base_uri": "https://localhost:8080/"
        },
        "execution": {
          "iopub.execute_input": "2025-06-11T23:10:21.494697Z",
          "iopub.status.busy": "2025-06-11T23:10:21.494408Z",
          "iopub.status.idle": "2025-06-11T23:10:21.499135Z",
          "shell.execute_reply": "2025-06-11T23:10:21.498336Z",
          "shell.execute_reply.started": "2025-06-11T23:10:21.494675Z"
        },
        "id": "9RRI98_zGbz6",
        "outputId": "0956f93f-5fbf-426a-a5fc-c192f6a4d225",
        "trusted": true
      },
      "outputs": [
        {
          "name": "stdout",
          "output_type": "stream",
          "text": [
            "Wall St. Bears Claw Back Into the Black (Reuters) Reuters - Short-sellers, Wall Street's dwindling\\band of ultra-cynics, are seeing green again.\n"
          ]
        }
      ],
      "source": [
        "print(train_x[0])"
      ]
    },
    {
      "cell_type": "markdown",
      "metadata": {
        "id": "j3ueJdi1Gbz6"
      },
      "source": [
        "# <p style=\"font-family:Arial;font-size:100%;text-align:center;color:#FF0000;\"> Tokenization</p>"
      ]
    },
    {
      "cell_type": "code",
      "execution_count": 20,
      "metadata": {
        "execution": {
          "iopub.execute_input": "2025-06-11T23:10:21.854963Z",
          "iopub.status.busy": "2025-06-11T23:10:21.854645Z",
          "iopub.status.idle": "2025-06-11T23:10:22.930855Z",
          "shell.execute_reply": "2025-06-11T23:10:22.929832Z",
          "shell.execute_reply.started": "2025-06-11T23:10:21.85494Z"
        },
        "id": "9vhdqoV8Gbz6",
        "trusted": true
      },
      "outputs": [],
      "source": [
        "def tokenize(text):\n",
        "    \"\"\"\n",
        "    Một hoặc nhiều ký tự là: chữ cái, chữ số, dấu gạch dưới (_), hoặc dấu nháy đơn '\n",
        "    \"\"\"\n",
        "    token = re.findall(\"[\\w']+\", text)\n",
        "    return token\n",
        "train_x = train_x.apply(tokenize)\n",
        "test_x = test_x.apply(tokenize)"
      ]
    },
    {
      "cell_type": "markdown",
      "metadata": {
        "id": "hW6vGyMpGbz6"
      },
      "source": [
        "# <p style=\"font-family:Arial;font-size:100%;text-align:center;color:#FF0000;\"> Chữ thường</p>"
      ]
    },
    {
      "cell_type": "code",
      "execution_count": 21,
      "metadata": {
        "execution": {
          "iopub.execute_input": "2025-06-11T23:10:24.849571Z",
          "iopub.status.busy": "2025-06-11T23:10:24.849181Z",
          "iopub.status.idle": "2025-06-11T23:10:25.386735Z",
          "shell.execute_reply": "2025-06-11T23:10:25.386043Z",
          "shell.execute_reply.started": "2025-06-11T23:10:24.849544Z"
        },
        "id": "2x6WFQJYGbz6",
        "trusted": true
      },
      "outputs": [],
      "source": [
        "train_x = train_x.apply(lambda x: [word.lower() for word in x])\n",
        "test_x = test_x.apply(lambda x: [word.lower() for word in x])"
      ]
    },
    {
      "cell_type": "markdown",
      "metadata": {
        "id": "TzdkF5h6Gbz6"
      },
      "source": [
        "# <p style=\"font-family:Arial;font-size:100%;text-align:center;color:#FF0000;\"> Xóa các StopWords</p>"
      ]
    },
    {
      "cell_type": "code",
      "execution_count": 22,
      "metadata": {
        "execution": {
          "iopub.execute_input": "2025-06-11T23:10:36.779349Z",
          "iopub.status.busy": "2025-06-11T23:10:36.778639Z",
          "iopub.status.idle": "2025-06-11T23:10:44.359611Z",
          "shell.execute_reply": "2025-06-11T23:10:44.358609Z",
          "shell.execute_reply.started": "2025-06-11T23:10:36.77932Z"
        },
        "id": "pBYXuYFqGbz7",
        "trusted": true
      },
      "outputs": [],
      "source": [
        "def xoa_stopwords(text):\n",
        "    stop_words = set(stopwords.words('english'))\n",
        "    return [word for word in text if word not in stop_words]\n",
        "train_x = train_x.apply(xoa_stopwords)\n",
        "test_x = test_x.apply(xoa_stopwords)"
      ]
    },
    {
      "cell_type": "markdown",
      "metadata": {
        "id": "ClcQxbKXGbz7"
      },
      "source": [
        "# <p style=\"font-family:Arial;font-size:100%;text-align:center;color:#FF0000;\"> Xóa các dấu câu</p>"
      ]
    },
    {
      "cell_type": "code",
      "execution_count": 23,
      "metadata": {
        "execution": {
          "iopub.execute_input": "2025-06-11T23:10:47.417034Z",
          "iopub.status.busy": "2025-06-11T23:10:47.41649Z",
          "iopub.status.idle": "2025-06-11T23:10:49.387818Z",
          "shell.execute_reply": "2025-06-11T23:10:49.386892Z",
          "shell.execute_reply.started": "2025-06-11T23:10:47.417006Z"
        },
        "id": "d-xOuTIXGbz7",
        "trusted": true
      },
      "outputs": [],
      "source": [
        "def xoa_dau(text):\n",
        "    return [''.join(char for char in word if char not in string.punctuation) for word in text]\n",
        "train_x = train_x.apply(xoa_dau)\n",
        "test_x = test_x.apply(xoa_dau)\n"
      ]
    },
    {
      "cell_type": "markdown",
      "metadata": {
        "id": "VAjDcuNNGbz7"
      },
      "source": [
        "# <p style=\"font-family:Arial;font-size:100%;text-align:center;color:#FF0000;\"> Xóa dữ liệu số</p>"
      ]
    },
    {
      "cell_type": "code",
      "execution_count": 24,
      "metadata": {
        "execution": {
          "iopub.execute_input": "2025-06-11T23:10:50.534226Z",
          "iopub.status.busy": "2025-06-11T23:10:50.533452Z",
          "iopub.status.idle": "2025-06-11T23:10:52.735014Z",
          "shell.execute_reply": "2025-06-11T23:10:52.734298Z",
          "shell.execute_reply.started": "2025-06-11T23:10:50.534186Z"
        },
        "id": "kmNzsxyvGbz7",
        "trusted": true
      },
      "outputs": [],
      "source": [
        "def xoa_so(text):\n",
        "    return [''.join(char for char in word if char not in string.digits) for word in text if word]\n",
        "train_x = train_x.apply(xoa_so)\n",
        "test_x = test_x.apply(xoa_so)"
      ]
    },
    {
      "cell_type": "markdown",
      "metadata": {
        "id": "Zg4sv1qgGbz7"
      },
      "source": [
        "# <p style=\"font-family:Arial;font-size:100%;text-align:center;color:#FF0000;\"> Stemming</p>"
      ]
    },
    {
      "cell_type": "code",
      "execution_count": 25,
      "metadata": {
        "execution": {
          "iopub.execute_input": "2025-06-11T23:10:54.56328Z",
          "iopub.status.busy": "2025-06-11T23:10:54.562397Z",
          "iopub.status.idle": "2025-06-11T23:11:24.553993Z",
          "shell.execute_reply": "2025-06-11T23:11:24.552975Z",
          "shell.execute_reply.started": "2025-06-11T23:10:54.563242Z"
        },
        "id": "GYHuaOrVGbz7",
        "trusted": true
      },
      "outputs": [],
      "source": [
        "from nltk.stem import PorterStemmer\n",
        "def stemming(text):\n",
        "    porter_stemmer = PorterStemmer()\n",
        "    return [porter_stemmer.stem(word) for word in text]\n",
        "train_x = train_x.apply(stemming)\n",
        "test_x = test_x.apply(stemming)"
      ]
    },
    {
      "cell_type": "markdown",
      "metadata": {
        "id": "UKSEQ6JwGbz_"
      },
      "source": [
        "# <p style=\"font-family:Arial;font-size:100%;text-align:center;color:#FF0000;\"> Xóa từ thừa</p>"
      ]
    },
    {
      "cell_type": "code",
      "execution_count": 26,
      "metadata": {
        "execution": {
          "iopub.execute_input": "2025-06-11T23:11:24.555767Z",
          "iopub.status.busy": "2025-06-11T23:11:24.555502Z",
          "iopub.status.idle": "2025-06-11T23:11:25.215521Z",
          "shell.execute_reply": "2025-06-11T23:11:25.214776Z",
          "shell.execute_reply.started": "2025-06-11T23:11:24.555747Z"
        },
        "id": "mt16l0v9Gb0A",
        "trusted": true
      },
      "outputs": [],
      "source": [
        "def xoa_thua(word_list):\n",
        "    extra = ['href', 'lt', 'gt', 'ii', 'iii', 'ie', 'quot', 'com']\n",
        "    cleaned_list = []\n",
        "    for word in word_list:\n",
        "        if word not in extra:\n",
        "            cleaned_list.append(word)\n",
        "    return cleaned_list\n",
        "train_x = train_x.apply(xoa_thua)\n",
        "test_x = test_x.apply(xoa_thua)"
      ]
    },
    {
      "cell_type": "markdown",
      "metadata": {
        "id": "ukvMDIdlGb0A"
      },
      "source": [
        "# <p style=\"font-family:Arial;font-size:100%;text-align:center;color:#FF0000;\"> Thêm khoảng trắng vào các từ</p>\n"
      ]
    },
    {
      "cell_type": "code",
      "execution_count": 27,
      "metadata": {
        "execution": {
          "iopub.execute_input": "2025-06-11T23:12:40.296242Z",
          "iopub.status.busy": "2025-06-11T23:12:40.295912Z",
          "iopub.status.idle": "2025-06-11T23:12:40.438372Z",
          "shell.execute_reply": "2025-06-11T23:12:40.437403Z",
          "shell.execute_reply.started": "2025-06-11T23:12:40.296217Z"
        },
        "id": "XhVcuG_qGb0A",
        "trusted": true
      },
      "outputs": [],
      "source": [
        "def them(sentence):\n",
        "    joined_sentence = ' '.join(sentence)\n",
        "    return joined_sentence\n",
        "\n",
        "train_x = train_x.apply(them)\n",
        "test_x = test_x.apply(them)\n"
      ]
    },
    {
      "cell_type": "code",
      "execution_count": 28,
      "metadata": {
        "colab": {
          "base_uri": "https://localhost:8080/"
        },
        "execution": {
          "iopub.execute_input": "2025-06-11T23:12:41.69681Z",
          "iopub.status.busy": "2025-06-11T23:12:41.696466Z",
          "iopub.status.idle": "2025-06-11T23:12:41.703309Z",
          "shell.execute_reply": "2025-06-11T23:12:41.702076Z",
          "shell.execute_reply.started": "2025-06-11T23:12:41.696775Z"
        },
        "id": "UfCIb1DWGb0A",
        "outputId": "b0d44a29-74d9-4e96-c24c-d5623452730c",
        "trusted": true
      },
      "outputs": [
        {
          "name": "stdout",
          "output_type": "stream",
          "text": [
            "0        wall st bear claw back black reuter reuter sho...\n",
            "1        carlyl look toward commerci aerospac reuter re...\n",
            "2        oil economi cloud stock outlook reuter reuter ...\n",
            "3        iraq halt oil export main southern pipelin reu...\n",
            "4        oil price soar time record pose new menac us e...\n",
            "                               ...                        \n",
            "59995    make   billion month cri poverti financ minist...\n",
            "59996    russian rocket take new russian us crew iss ru...\n",
            "59997    hacker use beckham bait softwar hacker use sna...\n",
            "59998    credit card go mobil mobil phone giant motorol...\n",
            "59999    studi find technolog could support mountain mo...\n",
            "Name: text, Length: 60000, dtype: object\n"
          ]
        }
      ],
      "source": [
        "print(train_x)"
      ]
    },
    {
      "cell_type": "markdown",
      "metadata": {
        "id": "_rF4UMVRGb0B"
      },
      "source": [
        "# <p style=\"font-family:Arial;font-size:150%;text-align:center;color:#FF0000;\"> Trích xuất đặc trưng</p>"
      ]
    },
    {
      "cell_type": "code",
      "execution_count": 29,
      "metadata": {
        "colab": {
          "base_uri": "https://localhost:8080/"
        },
        "execution": {
          "iopub.execute_input": "2025-06-11T23:13:10.603051Z",
          "iopub.status.busy": "2025-06-11T23:13:10.602204Z",
          "iopub.status.idle": "2025-06-11T23:13:23.323573Z",
          "shell.execute_reply": "2025-06-11T23:13:23.322805Z",
          "shell.execute_reply.started": "2025-06-11T23:13:10.603003Z"
        },
        "id": "eSGzZnXsGb0B",
        "outputId": "6ce5575e-de59-4f44-8e48-601ad295c4b5",
        "trusted": true
      },
      "outputs": [
        {
          "name": "stdout",
          "output_type": "stream",
          "text": [
            "26204\n",
            "100 đặc trưng đầu tiên\n",
            "['wall', 'st', 'bear', 'claw', 'back', 'black', 'reuter', 'short', 'seller', 'street', 'dwindl', 'band', 'ultra', 'cynic', 'see', 'green', 'wall st', 'claw back', 'reuter reuter', 'wall street', 'look', 'toward', 'commerci', 'aerospac', 'privat', 'invest', 'firm', 'group', 'reput', 'make', 'well', 'time', 'occasion', 'controversi', 'play', 'defens', 'industri', 'quietli', 'place', 'bet', 'anoth', 'part', 'market', 'privat invest', 'invest firm', 'oil', 'economi', 'cloud', 'stock', 'outlook', 'soar', 'crude', 'price', 'plu', 'worri', 'earn', 'expect', 'hang', 'next', 'week', 'depth', 'summer', 'crude price', 'worri economi', 'earn expect', 'stock market', 'market next', 'next week', 'iraq', 'halt', 'export', 'main', 'southern', 'pipelin', 'author', 'flow', 'intellig', 'show', 'rebel', 'militia', 'could', 'strike', 'infrastructur', 'offici', 'said', 'saturday', 'oil export', 'pipelin southern', 'southern iraq', 'rebel militia', 'oil offici', 'offici said', 'said saturday', 'pipelin southern iraq', 'oil offici said', 'offici said saturday', 'record', 'pose', 'new', 'menac']\n"
          ]
        }
      ],
      "source": [
        "tfidf = TfidfVectorizer(min_df=10, ngram_range=(1, 3))\n",
        "train_1 = tfidf.fit_transform(train_x)\n",
        "test_1 = tfidf.transform(test_x)\n",
        "print(len(tfidf.vocabulary_))\n",
        "print(\"100 đặc trưng đầu tiên\")\n",
        "print(list(tfidf.vocabulary_.keys())[:100])\n",
        "train_arr = train_1.toarray()\n",
        "test_arr = test_1.toarray()"
      ]
    },
    {
      "cell_type": "code",
      "execution_count": 30,
      "metadata": {
        "colab": {
          "base_uri": "https://localhost:8080/",
          "height": 423
        },
        "execution": {
          "iopub.execute_input": "2025-06-11T23:13:26.344829Z",
          "iopub.status.busy": "2025-06-11T23:13:26.344537Z",
          "iopub.status.idle": "2025-06-11T23:13:26.40789Z",
          "shell.execute_reply": "2025-06-11T23:13:26.406951Z",
          "shell.execute_reply.started": "2025-06-11T23:13:26.344808Z"
        },
        "id": "X8mSuk6NGb0B",
        "outputId": "06b4392e-7197-46c4-ed8b-631290dcb761",
        "trusted": true
      },
      "outputs": [
        {
          "data": {
            "application/vnd.google.colaboratory.intrinsic+json": {
              "type": "dataframe"
            },
            "text/html": [
              "\n",
              "  <div id=\"df-f3abe46a-bafb-4abb-b20a-18fd20ca8b19\" class=\"colab-df-container\">\n",
              "    <div>\n",
              "<style scoped>\n",
              "    .dataframe tbody tr th:only-of-type {\n",
              "        vertical-align: middle;\n",
              "    }\n",
              "\n",
              "    .dataframe tbody tr th {\n",
              "        vertical-align: top;\n",
              "    }\n",
              "\n",
              "    .dataframe thead th {\n",
              "        text-align: right;\n",
              "    }\n",
              "</style>\n",
              "<table border=\"1\" class=\"dataframe\">\n",
              "  <thead>\n",
              "    <tr style=\"text-align: right;\">\n",
              "      <th></th>\n",
              "      <th>aa</th>\n",
              "      <th>aapl</th>\n",
              "      <th>aaron</th>\n",
              "      <th>aaron peirsol</th>\n",
              "      <th>ab</th>\n",
              "      <th>ababa</th>\n",
              "      <th>abandon</th>\n",
              "      <th>abba</th>\n",
              "      <th>abbey</th>\n",
              "      <th>abbey bid</th>\n",
              "      <th>...</th>\n",
              "      <th>ziff davi ziff</th>\n",
              "      <th>zimbabw</th>\n",
              "      <th>zimbabwean</th>\n",
              "      <th>zombi</th>\n",
              "      <th>zone</th>\n",
              "      <th>zoo</th>\n",
              "      <th>zoom</th>\n",
              "      <th>zurich</th>\n",
              "      <th>zurich reuter</th>\n",
              "      <th>zvonareva</th>\n",
              "    </tr>\n",
              "  </thead>\n",
              "  <tbody>\n",
              "    <tr>\n",
              "      <th>0</th>\n",
              "      <td>0.0</td>\n",
              "      <td>0.0</td>\n",
              "      <td>0.0</td>\n",
              "      <td>0.0</td>\n",
              "      <td>0.0</td>\n",
              "      <td>0.0</td>\n",
              "      <td>0.0</td>\n",
              "      <td>0.0</td>\n",
              "      <td>0.0</td>\n",
              "      <td>0.0</td>\n",
              "      <td>...</td>\n",
              "      <td>0.0</td>\n",
              "      <td>0.0</td>\n",
              "      <td>0.0</td>\n",
              "      <td>0.0</td>\n",
              "      <td>0.0</td>\n",
              "      <td>0.0</td>\n",
              "      <td>0.0</td>\n",
              "      <td>0.0</td>\n",
              "      <td>0.0</td>\n",
              "      <td>0.0</td>\n",
              "    </tr>\n",
              "    <tr>\n",
              "      <th>1</th>\n",
              "      <td>0.0</td>\n",
              "      <td>0.0</td>\n",
              "      <td>0.0</td>\n",
              "      <td>0.0</td>\n",
              "      <td>0.0</td>\n",
              "      <td>0.0</td>\n",
              "      <td>0.0</td>\n",
              "      <td>0.0</td>\n",
              "      <td>0.0</td>\n",
              "      <td>0.0</td>\n",
              "      <td>...</td>\n",
              "      <td>0.0</td>\n",
              "      <td>0.0</td>\n",
              "      <td>0.0</td>\n",
              "      <td>0.0</td>\n",
              "      <td>0.0</td>\n",
              "      <td>0.0</td>\n",
              "      <td>0.0</td>\n",
              "      <td>0.0</td>\n",
              "      <td>0.0</td>\n",
              "      <td>0.0</td>\n",
              "    </tr>\n",
              "    <tr>\n",
              "      <th>2</th>\n",
              "      <td>0.0</td>\n",
              "      <td>0.0</td>\n",
              "      <td>0.0</td>\n",
              "      <td>0.0</td>\n",
              "      <td>0.0</td>\n",
              "      <td>0.0</td>\n",
              "      <td>0.0</td>\n",
              "      <td>0.0</td>\n",
              "      <td>0.0</td>\n",
              "      <td>0.0</td>\n",
              "      <td>...</td>\n",
              "      <td>0.0</td>\n",
              "      <td>0.0</td>\n",
              "      <td>0.0</td>\n",
              "      <td>0.0</td>\n",
              "      <td>0.0</td>\n",
              "      <td>0.0</td>\n",
              "      <td>0.0</td>\n",
              "      <td>0.0</td>\n",
              "      <td>0.0</td>\n",
              "      <td>0.0</td>\n",
              "    </tr>\n",
              "    <tr>\n",
              "      <th>3</th>\n",
              "      <td>0.0</td>\n",
              "      <td>0.0</td>\n",
              "      <td>0.0</td>\n",
              "      <td>0.0</td>\n",
              "      <td>0.0</td>\n",
              "      <td>0.0</td>\n",
              "      <td>0.0</td>\n",
              "      <td>0.0</td>\n",
              "      <td>0.0</td>\n",
              "      <td>0.0</td>\n",
              "      <td>...</td>\n",
              "      <td>0.0</td>\n",
              "      <td>0.0</td>\n",
              "      <td>0.0</td>\n",
              "      <td>0.0</td>\n",
              "      <td>0.0</td>\n",
              "      <td>0.0</td>\n",
              "      <td>0.0</td>\n",
              "      <td>0.0</td>\n",
              "      <td>0.0</td>\n",
              "      <td>0.0</td>\n",
              "    </tr>\n",
              "    <tr>\n",
              "      <th>4</th>\n",
              "      <td>0.0</td>\n",
              "      <td>0.0</td>\n",
              "      <td>0.0</td>\n",
              "      <td>0.0</td>\n",
              "      <td>0.0</td>\n",
              "      <td>0.0</td>\n",
              "      <td>0.0</td>\n",
              "      <td>0.0</td>\n",
              "      <td>0.0</td>\n",
              "      <td>0.0</td>\n",
              "      <td>...</td>\n",
              "      <td>0.0</td>\n",
              "      <td>0.0</td>\n",
              "      <td>0.0</td>\n",
              "      <td>0.0</td>\n",
              "      <td>0.0</td>\n",
              "      <td>0.0</td>\n",
              "      <td>0.0</td>\n",
              "      <td>0.0</td>\n",
              "      <td>0.0</td>\n",
              "      <td>0.0</td>\n",
              "    </tr>\n",
              "    <tr>\n",
              "      <th>...</th>\n",
              "      <td>...</td>\n",
              "      <td>...</td>\n",
              "      <td>...</td>\n",
              "      <td>...</td>\n",
              "      <td>...</td>\n",
              "      <td>...</td>\n",
              "      <td>...</td>\n",
              "      <td>...</td>\n",
              "      <td>...</td>\n",
              "      <td>...</td>\n",
              "      <td>...</td>\n",
              "      <td>...</td>\n",
              "      <td>...</td>\n",
              "      <td>...</td>\n",
              "      <td>...</td>\n",
              "      <td>...</td>\n",
              "      <td>...</td>\n",
              "      <td>...</td>\n",
              "      <td>...</td>\n",
              "      <td>...</td>\n",
              "      <td>...</td>\n",
              "    </tr>\n",
              "    <tr>\n",
              "      <th>95</th>\n",
              "      <td>0.0</td>\n",
              "      <td>0.0</td>\n",
              "      <td>0.0</td>\n",
              "      <td>0.0</td>\n",
              "      <td>0.0</td>\n",
              "      <td>0.0</td>\n",
              "      <td>0.0</td>\n",
              "      <td>0.0</td>\n",
              "      <td>0.0</td>\n",
              "      <td>0.0</td>\n",
              "      <td>...</td>\n",
              "      <td>0.0</td>\n",
              "      <td>0.0</td>\n",
              "      <td>0.0</td>\n",
              "      <td>0.0</td>\n",
              "      <td>0.0</td>\n",
              "      <td>0.0</td>\n",
              "      <td>0.0</td>\n",
              "      <td>0.0</td>\n",
              "      <td>0.0</td>\n",
              "      <td>0.0</td>\n",
              "    </tr>\n",
              "    <tr>\n",
              "      <th>96</th>\n",
              "      <td>0.0</td>\n",
              "      <td>0.0</td>\n",
              "      <td>0.0</td>\n",
              "      <td>0.0</td>\n",
              "      <td>0.0</td>\n",
              "      <td>0.0</td>\n",
              "      <td>0.0</td>\n",
              "      <td>0.0</td>\n",
              "      <td>0.0</td>\n",
              "      <td>0.0</td>\n",
              "      <td>...</td>\n",
              "      <td>0.0</td>\n",
              "      <td>0.0</td>\n",
              "      <td>0.0</td>\n",
              "      <td>0.0</td>\n",
              "      <td>0.0</td>\n",
              "      <td>0.0</td>\n",
              "      <td>0.0</td>\n",
              "      <td>0.0</td>\n",
              "      <td>0.0</td>\n",
              "      <td>0.0</td>\n",
              "    </tr>\n",
              "    <tr>\n",
              "      <th>97</th>\n",
              "      <td>0.0</td>\n",
              "      <td>0.0</td>\n",
              "      <td>0.0</td>\n",
              "      <td>0.0</td>\n",
              "      <td>0.0</td>\n",
              "      <td>0.0</td>\n",
              "      <td>0.0</td>\n",
              "      <td>0.0</td>\n",
              "      <td>0.0</td>\n",
              "      <td>0.0</td>\n",
              "      <td>...</td>\n",
              "      <td>0.0</td>\n",
              "      <td>0.0</td>\n",
              "      <td>0.0</td>\n",
              "      <td>0.0</td>\n",
              "      <td>0.0</td>\n",
              "      <td>0.0</td>\n",
              "      <td>0.0</td>\n",
              "      <td>0.0</td>\n",
              "      <td>0.0</td>\n",
              "      <td>0.0</td>\n",
              "    </tr>\n",
              "    <tr>\n",
              "      <th>98</th>\n",
              "      <td>0.0</td>\n",
              "      <td>0.0</td>\n",
              "      <td>0.0</td>\n",
              "      <td>0.0</td>\n",
              "      <td>0.0</td>\n",
              "      <td>0.0</td>\n",
              "      <td>0.0</td>\n",
              "      <td>0.0</td>\n",
              "      <td>0.0</td>\n",
              "      <td>0.0</td>\n",
              "      <td>...</td>\n",
              "      <td>0.0</td>\n",
              "      <td>0.0</td>\n",
              "      <td>0.0</td>\n",
              "      <td>0.0</td>\n",
              "      <td>0.0</td>\n",
              "      <td>0.0</td>\n",
              "      <td>0.0</td>\n",
              "      <td>0.0</td>\n",
              "      <td>0.0</td>\n",
              "      <td>0.0</td>\n",
              "    </tr>\n",
              "    <tr>\n",
              "      <th>99</th>\n",
              "      <td>0.0</td>\n",
              "      <td>0.0</td>\n",
              "      <td>0.0</td>\n",
              "      <td>0.0</td>\n",
              "      <td>0.0</td>\n",
              "      <td>0.0</td>\n",
              "      <td>0.0</td>\n",
              "      <td>0.0</td>\n",
              "      <td>0.0</td>\n",
              "      <td>0.0</td>\n",
              "      <td>...</td>\n",
              "      <td>0.0</td>\n",
              "      <td>0.0</td>\n",
              "      <td>0.0</td>\n",
              "      <td>0.0</td>\n",
              "      <td>0.0</td>\n",
              "      <td>0.0</td>\n",
              "      <td>0.0</td>\n",
              "      <td>0.0</td>\n",
              "      <td>0.0</td>\n",
              "      <td>0.0</td>\n",
              "    </tr>\n",
              "  </tbody>\n",
              "</table>\n",
              "<p>100 rows × 26204 columns</p>\n",
              "</div>\n",
              "    <div class=\"colab-df-buttons\">\n",
              "\n",
              "  <div class=\"colab-df-container\">\n",
              "    <button class=\"colab-df-convert\" onclick=\"convertToInteractive('df-f3abe46a-bafb-4abb-b20a-18fd20ca8b19')\"\n",
              "            title=\"Convert this dataframe to an interactive table.\"\n",
              "            style=\"display:none;\">\n",
              "\n",
              "  <svg xmlns=\"http://www.w3.org/2000/svg\" height=\"24px\" viewBox=\"0 -960 960 960\">\n",
              "    <path d=\"M120-120v-720h720v720H120Zm60-500h600v-160H180v160Zm220 220h160v-160H400v160Zm0 220h160v-160H400v160ZM180-400h160v-160H180v160Zm440 0h160v-160H620v160ZM180-180h160v-160H180v160Zm440 0h160v-160H620v160Z\"/>\n",
              "  </svg>\n",
              "    </button>\n",
              "\n",
              "  <style>\n",
              "    .colab-df-container {\n",
              "      display:flex;\n",
              "      gap: 12px;\n",
              "    }\n",
              "\n",
              "    .colab-df-convert {\n",
              "      background-color: #E8F0FE;\n",
              "      border: none;\n",
              "      border-radius: 50%;\n",
              "      cursor: pointer;\n",
              "      display: none;\n",
              "      fill: #1967D2;\n",
              "      height: 32px;\n",
              "      padding: 0 0 0 0;\n",
              "      width: 32px;\n",
              "    }\n",
              "\n",
              "    .colab-df-convert:hover {\n",
              "      background-color: #E2EBFA;\n",
              "      box-shadow: 0px 1px 2px rgba(60, 64, 67, 0.3), 0px 1px 3px 1px rgba(60, 64, 67, 0.15);\n",
              "      fill: #174EA6;\n",
              "    }\n",
              "\n",
              "    .colab-df-buttons div {\n",
              "      margin-bottom: 4px;\n",
              "    }\n",
              "\n",
              "    [theme=dark] .colab-df-convert {\n",
              "      background-color: #3B4455;\n",
              "      fill: #D2E3FC;\n",
              "    }\n",
              "\n",
              "    [theme=dark] .colab-df-convert:hover {\n",
              "      background-color: #434B5C;\n",
              "      box-shadow: 0px 1px 3px 1px rgba(0, 0, 0, 0.15);\n",
              "      filter: drop-shadow(0px 1px 2px rgba(0, 0, 0, 0.3));\n",
              "      fill: #FFFFFF;\n",
              "    }\n",
              "  </style>\n",
              "\n",
              "    <script>\n",
              "      const buttonEl =\n",
              "        document.querySelector('#df-f3abe46a-bafb-4abb-b20a-18fd20ca8b19 button.colab-df-convert');\n",
              "      buttonEl.style.display =\n",
              "        google.colab.kernel.accessAllowed ? 'block' : 'none';\n",
              "\n",
              "      async function convertToInteractive(key) {\n",
              "        const element = document.querySelector('#df-f3abe46a-bafb-4abb-b20a-18fd20ca8b19');\n",
              "        const dataTable =\n",
              "          await google.colab.kernel.invokeFunction('convertToInteractive',\n",
              "                                                    [key], {});\n",
              "        if (!dataTable) return;\n",
              "\n",
              "        const docLinkHtml = 'Like what you see? Visit the ' +\n",
              "          '<a target=\"_blank\" href=https://colab.research.google.com/notebooks/data_table.ipynb>data table notebook</a>'\n",
              "          + ' to learn more about interactive tables.';\n",
              "        element.innerHTML = '';\n",
              "        dataTable['output_type'] = 'display_data';\n",
              "        await google.colab.output.renderOutput(dataTable, element);\n",
              "        const docLink = document.createElement('div');\n",
              "        docLink.innerHTML = docLinkHtml;\n",
              "        element.appendChild(docLink);\n",
              "      }\n",
              "    </script>\n",
              "  </div>\n",
              "\n",
              "\n",
              "    <div id=\"df-d087a213-ff52-4b9e-9384-631dfc8b1962\">\n",
              "      <button class=\"colab-df-quickchart\" onclick=\"quickchart('df-d087a213-ff52-4b9e-9384-631dfc8b1962')\"\n",
              "                title=\"Suggest charts\"\n",
              "                style=\"display:none;\">\n",
              "\n",
              "<svg xmlns=\"http://www.w3.org/2000/svg\" height=\"24px\"viewBox=\"0 0 24 24\"\n",
              "     width=\"24px\">\n",
              "    <g>\n",
              "        <path d=\"M19 3H5c-1.1 0-2 .9-2 2v14c0 1.1.9 2 2 2h14c1.1 0 2-.9 2-2V5c0-1.1-.9-2-2-2zM9 17H7v-7h2v7zm4 0h-2V7h2v10zm4 0h-2v-4h2v4z\"/>\n",
              "    </g>\n",
              "</svg>\n",
              "      </button>\n",
              "\n",
              "<style>\n",
              "  .colab-df-quickchart {\n",
              "      --bg-color: #E8F0FE;\n",
              "      --fill-color: #1967D2;\n",
              "      --hover-bg-color: #E2EBFA;\n",
              "      --hover-fill-color: #174EA6;\n",
              "      --disabled-fill-color: #AAA;\n",
              "      --disabled-bg-color: #DDD;\n",
              "  }\n",
              "\n",
              "  [theme=dark] .colab-df-quickchart {\n",
              "      --bg-color: #3B4455;\n",
              "      --fill-color: #D2E3FC;\n",
              "      --hover-bg-color: #434B5C;\n",
              "      --hover-fill-color: #FFFFFF;\n",
              "      --disabled-bg-color: #3B4455;\n",
              "      --disabled-fill-color: #666;\n",
              "  }\n",
              "\n",
              "  .colab-df-quickchart {\n",
              "    background-color: var(--bg-color);\n",
              "    border: none;\n",
              "    border-radius: 50%;\n",
              "    cursor: pointer;\n",
              "    display: none;\n",
              "    fill: var(--fill-color);\n",
              "    height: 32px;\n",
              "    padding: 0;\n",
              "    width: 32px;\n",
              "  }\n",
              "\n",
              "  .colab-df-quickchart:hover {\n",
              "    background-color: var(--hover-bg-color);\n",
              "    box-shadow: 0 1px 2px rgba(60, 64, 67, 0.3), 0 1px 3px 1px rgba(60, 64, 67, 0.15);\n",
              "    fill: var(--button-hover-fill-color);\n",
              "  }\n",
              "\n",
              "  .colab-df-quickchart-complete:disabled,\n",
              "  .colab-df-quickchart-complete:disabled:hover {\n",
              "    background-color: var(--disabled-bg-color);\n",
              "    fill: var(--disabled-fill-color);\n",
              "    box-shadow: none;\n",
              "  }\n",
              "\n",
              "  .colab-df-spinner {\n",
              "    border: 2px solid var(--fill-color);\n",
              "    border-color: transparent;\n",
              "    border-bottom-color: var(--fill-color);\n",
              "    animation:\n",
              "      spin 1s steps(1) infinite;\n",
              "  }\n",
              "\n",
              "  @keyframes spin {\n",
              "    0% {\n",
              "      border-color: transparent;\n",
              "      border-bottom-color: var(--fill-color);\n",
              "      border-left-color: var(--fill-color);\n",
              "    }\n",
              "    20% {\n",
              "      border-color: transparent;\n",
              "      border-left-color: var(--fill-color);\n",
              "      border-top-color: var(--fill-color);\n",
              "    }\n",
              "    30% {\n",
              "      border-color: transparent;\n",
              "      border-left-color: var(--fill-color);\n",
              "      border-top-color: var(--fill-color);\n",
              "      border-right-color: var(--fill-color);\n",
              "    }\n",
              "    40% {\n",
              "      border-color: transparent;\n",
              "      border-right-color: var(--fill-color);\n",
              "      border-top-color: var(--fill-color);\n",
              "    }\n",
              "    60% {\n",
              "      border-color: transparent;\n",
              "      border-right-color: var(--fill-color);\n",
              "    }\n",
              "    80% {\n",
              "      border-color: transparent;\n",
              "      border-right-color: var(--fill-color);\n",
              "      border-bottom-color: var(--fill-color);\n",
              "    }\n",
              "    90% {\n",
              "      border-color: transparent;\n",
              "      border-bottom-color: var(--fill-color);\n",
              "    }\n",
              "  }\n",
              "</style>\n",
              "\n",
              "      <script>\n",
              "        async function quickchart(key) {\n",
              "          const quickchartButtonEl =\n",
              "            document.querySelector('#' + key + ' button');\n",
              "          quickchartButtonEl.disabled = true;  // To prevent multiple clicks.\n",
              "          quickchartButtonEl.classList.add('colab-df-spinner');\n",
              "          try {\n",
              "            const charts = await google.colab.kernel.invokeFunction(\n",
              "                'suggestCharts', [key], {});\n",
              "          } catch (error) {\n",
              "            console.error('Error during call to suggestCharts:', error);\n",
              "          }\n",
              "          quickchartButtonEl.classList.remove('colab-df-spinner');\n",
              "          quickchartButtonEl.classList.add('colab-df-quickchart-complete');\n",
              "        }\n",
              "        (() => {\n",
              "          let quickchartButtonEl =\n",
              "            document.querySelector('#df-d087a213-ff52-4b9e-9384-631dfc8b1962 button');\n",
              "          quickchartButtonEl.style.display =\n",
              "            google.colab.kernel.accessAllowed ? 'block' : 'none';\n",
              "        })();\n",
              "      </script>\n",
              "    </div>\n",
              "\n",
              "    </div>\n",
              "  </div>\n"
            ],
            "text/plain": [
              "     aa  aapl  aaron  aaron peirsol   ab  ababa  abandon  abba  abbey  \\\n",
              "0   0.0   0.0    0.0            0.0  0.0    0.0      0.0   0.0    0.0   \n",
              "1   0.0   0.0    0.0            0.0  0.0    0.0      0.0   0.0    0.0   \n",
              "2   0.0   0.0    0.0            0.0  0.0    0.0      0.0   0.0    0.0   \n",
              "3   0.0   0.0    0.0            0.0  0.0    0.0      0.0   0.0    0.0   \n",
              "4   0.0   0.0    0.0            0.0  0.0    0.0      0.0   0.0    0.0   \n",
              "..  ...   ...    ...            ...  ...    ...      ...   ...    ...   \n",
              "95  0.0   0.0    0.0            0.0  0.0    0.0      0.0   0.0    0.0   \n",
              "96  0.0   0.0    0.0            0.0  0.0    0.0      0.0   0.0    0.0   \n",
              "97  0.0   0.0    0.0            0.0  0.0    0.0      0.0   0.0    0.0   \n",
              "98  0.0   0.0    0.0            0.0  0.0    0.0      0.0   0.0    0.0   \n",
              "99  0.0   0.0    0.0            0.0  0.0    0.0      0.0   0.0    0.0   \n",
              "\n",
              "    abbey bid  ...  ziff davi ziff  zimbabw  zimbabwean  zombi  zone  zoo  \\\n",
              "0         0.0  ...             0.0      0.0         0.0    0.0   0.0  0.0   \n",
              "1         0.0  ...             0.0      0.0         0.0    0.0   0.0  0.0   \n",
              "2         0.0  ...             0.0      0.0         0.0    0.0   0.0  0.0   \n",
              "3         0.0  ...             0.0      0.0         0.0    0.0   0.0  0.0   \n",
              "4         0.0  ...             0.0      0.0         0.0    0.0   0.0  0.0   \n",
              "..        ...  ...             ...      ...         ...    ...   ...  ...   \n",
              "95        0.0  ...             0.0      0.0         0.0    0.0   0.0  0.0   \n",
              "96        0.0  ...             0.0      0.0         0.0    0.0   0.0  0.0   \n",
              "97        0.0  ...             0.0      0.0         0.0    0.0   0.0  0.0   \n",
              "98        0.0  ...             0.0      0.0         0.0    0.0   0.0  0.0   \n",
              "99        0.0  ...             0.0      0.0         0.0    0.0   0.0  0.0   \n",
              "\n",
              "    zoom  zurich  zurich reuter  zvonareva  \n",
              "0    0.0     0.0            0.0        0.0  \n",
              "1    0.0     0.0            0.0        0.0  \n",
              "2    0.0     0.0            0.0        0.0  \n",
              "3    0.0     0.0            0.0        0.0  \n",
              "4    0.0     0.0            0.0        0.0  \n",
              "..   ...     ...            ...        ...  \n",
              "95   0.0     0.0            0.0        0.0  \n",
              "96   0.0     0.0            0.0        0.0  \n",
              "97   0.0     0.0            0.0        0.0  \n",
              "98   0.0     0.0            0.0        0.0  \n",
              "99   0.0     0.0            0.0        0.0  \n",
              "\n",
              "[100 rows x 26204 columns]"
            ]
          },
          "execution_count": 30,
          "metadata": {},
          "output_type": "execute_result"
        }
      ],
      "source": [
        "feature_names = tfidf.get_feature_names_out()\n",
        "pd.DataFrame(train_arr[:100], columns=feature_names)"
      ]
    },
    {
      "cell_type": "markdown",
      "metadata": {
        "id": "c8zbKqpkGb0B"
      },
      "source": [
        "# <p style=\"font-family:Arial;font-size:150%;text-align:center;color:#FF0000;\"> Đánh giá mô hình</p>"
      ]
    },
    {
      "cell_type": "code",
      "execution_count": 31,
      "metadata": {
        "execution": {
          "execution_failed": "2025-06-11T23:56:55.562Z"
        },
        "id": "_-eqd8qZGb0B",
        "trusted": true
      },
      "outputs": [],
      "source": [
        "def danhgia(y,y_pred):\n",
        "    print(\"Đánh giá bằng F1 score\")\n",
        "    print(f1_score(y,y_pred,average='micro'))\n",
        "    print(\"Độ chính xác của mô hình\")\n",
        "    print(accuracy_score(y,y_pred))"
      ]
    },
    {
      "cell_type": "code",
      "execution_count": 32,
      "metadata": {
        "execution": {
          "execution_failed": "2025-06-11T23:56:55.564Z"
        },
        "id": "rTYhFTUKGb0B",
        "trusted": true
      },
      "outputs": [],
      "source": [
        "def confusion_mat(color):\n",
        "    cof=confusion_matrix(test_y, pred)\n",
        "    cof=pd.DataFrame(cof, index=[i for i in range(1,5)], columns=[i for i in range(1,5)])\n",
        "    sns.set(font_scale=1.5)\n",
        "    plt.figure(figsize=(8,8));\n",
        "\n",
        "    sns.heatmap(cof, cmap=color,linewidths=1, annot=True,square=True, fmt='d', cbar=False,xticklabels=['World','Sports','Business','Science'],yticklabels=['World','Sports','Business','Science']);\n",
        "    plt.xlabel(\"Dự đoán\");\n",
        "    plt.ylabel(\"Thực tế\");"
      ]
    },
    {
      "cell_type": "markdown",
      "metadata": {
        "id": "1L0WiVRmGb0C"
      },
      "source": [
        "# <p style=\"font-family:Arial;font-size:150%;text-align:center;color:#FF0000;\"> Ứng dụng mô hình </p>"
      ]
    },
    {
      "cell_type": "markdown",
      "metadata": {
        "id": "lHeWuFU9Gb0C"
      },
      "source": [
        "# <p style=\"font-family:Arial;font-size:100%;text-align:center;color:#FF0000;\"> Mô hình 1: Multinomial Naive Bayes</p>"
      ]
    },
    {
      "cell_type": "code",
      "execution_count": 33,
      "metadata": {
        "colab": {
          "base_uri": "https://localhost:8080/"
        },
        "execution": {
          "execution_failed": "2025-06-11T23:56:55.564Z"
        },
        "id": "X27pEj1OGb0C",
        "outputId": "d8fc0922-b675-460d-e028-f709c191d569",
        "trusted": true
      },
      "outputs": [
        {
          "name": "stdout",
          "output_type": "stream",
          "text": [
            "20 nhãn thực đầu tiên\n",
            "[3, 4, 4, 4, 4, 4, 4, 4, 4, 4, 4, 4, 4, 4, 4, 4, 4, 4, 4, 4]\n",
            "20 nhãn dự đoán đầu tiên\n",
            "[3, 4, 4, 4, 4, 4, 4, 4, 4, 4, 4, 4, 4, 4, 4, 4, 4, 4, 4, 3]\n"
          ]
        }
      ],
      "source": [
        "NB_MN=MultinomialNB()\n",
        "NB_MN.fit(train_arr,train_y)\n",
        "pred=NB_MN.predict(test_arr)\n",
        "\n",
        "print(\"20 nhãn thực đầu tiên\")\n",
        "print(test_y.tolist()[:20])\n",
        "print(\"20 nhãn dự đoán đầu tiên\")\n",
        "print(pred.tolist()[:20])"
      ]
    },
    {
      "cell_type": "code",
      "execution_count": 34,
      "metadata": {
        "colab": {
          "base_uri": "https://localhost:8080/"
        },
        "execution": {
          "execution_failed": "2025-06-11T23:56:55.565Z"
        },
        "id": "EImii-VRGb0C",
        "outputId": "a04c2e80-eba1-4486-cad8-b56982f69eb2",
        "trusted": true
      },
      "outputs": [
        {
          "name": "stdout",
          "output_type": "stream",
          "text": [
            "Đánh giá bằng F1 score\n",
            "0.8942105263157895\n",
            "Độ chính xác của mô hình\n",
            "0.8942105263157895\n"
          ]
        }
      ],
      "source": [
        "danhgia(test_y,pred)\n",
        "\n",
        "a=round(accuracy_score(test_y,pred)*100,3)"
      ]
    },
    {
      "cell_type": "code",
      "execution_count": 35,
      "metadata": {
        "colab": {
          "base_uri": "https://localhost:8080/"
        },
        "execution": {
          "execution_failed": "2025-06-11T23:56:55.565Z"
        },
        "id": "gJlEKF2fGb0C",
        "outputId": "e744b396-8a95-47e0-fb28-c1bc47d91162",
        "trusted": true
      },
      "outputs": [
        {
          "name": "stdout",
          "output_type": "stream",
          "text": [
            "AUC-ROC score (multiclass): 0.9758151431209603\n"
          ]
        }
      ],
      "source": [
        "probs = NB_MN.predict_proba(test_arr)\n",
        "n_classes = probs.shape[1]\n",
        "\n",
        "auc_score = roc_auc_score(test_y, probs, multi_class='ovr')\n",
        "print(\"AUC-ROC score (multiclass):\", auc_score)"
      ]
    },
    {
      "cell_type": "code",
      "execution_count": 36,
      "metadata": {
        "colab": {
          "base_uri": "https://localhost:8080/",
          "height": 719
        },
        "execution": {
          "execution_failed": "2025-06-11T23:56:55.566Z"
        },
        "id": "mG-ByQkbGb0D",
        "outputId": "694390af-4387-4fd4-bab7-b3895a251035",
        "trusted": true
      },
      "outputs": [
        {
          "data": {
            "image/png": "[encoded data removed]",
            "text/plain": [
              "<Figure size 800x800 with 1 Axes>"
            ]
          },
          "metadata": {},
          "output_type": "display_data"
        }
      ],
      "source": [
        "confusion_mat('YlOrRd')"
      ]
    },
    {
      "cell_type": "markdown",
      "metadata": {
        "id": "Hfhh0yJoGb0D"
      },
      "source": [
        "# <p style=\"font-family:Arial;font-size:100%;text-align:center;color:#FF0000;\">Mô hình 2: Logistic Regression</p>"
      ]
    },
    {
      "cell_type": "code",
      "execution_count": 37,
      "metadata": {
        "colab": {
          "base_uri": "https://localhost:8080/"
        },
        "execution": {
          "execution_failed": "2025-06-11T23:56:55.566Z"
        },
        "id": "uc6ryZvfGb0D",
        "outputId": "60427641-4ba7-4b32-e98e-ead18d36247a",
        "trusted": true
      },
      "outputs": [
        {
          "name": "stdout",
          "output_type": "stream",
          "text": [
            "20 nhãn thực đầu tiên\n",
            "[3, 4, 4, 4, 4, 4, 4, 4, 4, 4, 4, 4, 4, 4, 4, 4, 4, 4, 4, 4]\n",
            "20 nhãn dự đoán đầu tiên\n",
            "[3, 4, 4, 4, 4, 4, 4, 4, 4, 4, 4, 4, 4, 4, 4, 4, 4, 4, 4, 4]\n"
          ]
        }
      ],
      "source": [
        "model = LogisticRegression(max_iter=1000)\n",
        "model.fit(train_arr, train_y)\n",
        "pred = model.predict(test_arr)\n",
        "\n",
        "print(\"20 nhãn thực đầu tiên\")\n",
        "print(test_y.tolist()[:20])\n",
        "print(\"20 nhãn dự đoán đầu tiên\")\n",
        "print(pred.tolist()[:20])\n"
      ]
    },
    {
      "cell_type": "code",
      "execution_count": 38,
      "metadata": {
        "colab": {
          "base_uri": "https://localhost:8080/"
        },
        "execution": {
          "execution_failed": "2025-06-11T23:56:55.567Z"
        },
        "id": "FdWfRcGoGb0D",
        "outputId": "bde78ce3-bcd9-469b-ebfe-6977aaf744ef",
        "trusted": true
      },
      "outputs": [
        {
          "name": "stdout",
          "output_type": "stream",
          "text": [
            "Đánh giá bằng F1 score\n",
            "0.9055263157894737\n",
            "Độ chính xác của mô hình\n",
            "0.9055263157894737\n"
          ]
        }
      ],
      "source": [
        "danhgia(pred,test_y)\n",
        "b=round(accuracy_score(test_y,pred)*100,3)"
      ]
    },
    {
      "cell_type": "code",
      "execution_count": 39,
      "metadata": {
        "colab": {
          "base_uri": "https://localhost:8080/"
        },
        "execution": {
          "execution_failed": "2025-06-11T23:56:55.567Z"
        },
        "id": "OQpwvm9uGb0E",
        "outputId": "881b777c-d25e-4329-ff36-e04d39575725",
        "trusted": true
      },
      "outputs": [
        {
          "name": "stdout",
          "output_type": "stream",
          "text": [
            "AUC-ROC score (multiclass): 0.9804833333333333\n"
          ]
        }
      ],
      "source": [
        "\n",
        "\n",
        "probs = model.predict_proba(test_arr)\n",
        "n_classes = probs.shape[1]\n",
        "\n",
        "auc_score = roc_auc_score(test_y, probs, multi_class='ovr')\n",
        "print(\"AUC-ROC score (multiclass):\", auc_score)\n"
      ]
    },
    {
      "cell_type": "code",
      "execution_count": 40,
      "metadata": {
        "colab": {
          "base_uri": "https://localhost:8080/",
          "height": 719
        },
        "execution": {
          "execution_failed": "2025-06-11T23:56:55.568Z"
        },
        "id": "WhZKXhERGb0E",
        "outputId": "ca57f371-e46d-4bcd-a6bd-17f6aa2811ed",
        "trusted": true
      },
      "outputs": [
        {
          "data": {
            "image/png": "[encoded data removed]",
            "text/plain": [
              "<Figure size 800x800 with 1 Axes>"
            ]
          },
          "metadata": {},
          "output_type": "display_data"
        }
      ],
      "source": [
        "confusion_mat('Reds')"
      ]
    },
    {
      "cell_type": "markdown",
      "metadata": {
        "id": "1ZaMviBoGb0E"
      },
      "source": [
        "# <p style=\"font-family:Arial;font-size:150%;text-align:center;color:#FF0000;\">So sánh độ chính xác giữa 2 mô hình</p>"
      ]
    },
    {
      "cell_type": "code",
      "execution_count": 41,
      "metadata": {
        "colab": {
          "base_uri": "https://localhost:8080/",
          "height": 592
        },
        "execution": {
          "execution_failed": "2025-06-11T23:56:55.568Z"
        },
        "id": "cKCsPWwYGb0E",
        "outputId": "b155d8ea-3a0f-4b36-8fd7-c81a101e5e7b",
        "trusted": true
      },
      "outputs": [
        {
          "data": {
            "image/png": "[encoded data removed]",
            "text/plain": [
              "<Figure size 640x480 with 1 Axes>"
            ]
          },
          "metadata": {},
          "output_type": "display_data"
        }
      ],
      "source": [
        "sns.set()\n",
        "fig = plt.figure()\n",
        "ax = fig.add_axes([0,0,1,1])\n",
        "Models = ['MultinomialNB', 'LogisticRegression']\n",
        "Accuracy=[a,b]\n",
        "ax.bar(Models,Accuracy,color=['#702963','#702763']);\n",
        "for i in ax.patches:\n",
        "    ax.text(i.get_x()+.1, i.get_height()-5.5, str(round(i.get_height(),2))+'%', fontsize=15, color='white')\n",
        "plt.title('So sánh độ chính xác giữa 2 mô hình');\n",
        "plt.ylabel('Độ chính xác');\n",
        "plt.xlabel('Mô hình phân lớp');\n",
        "\n",
        "plt.show();"
      ]
    },
    {
      "cell_type": "code",
      "execution_count": 41,
      "metadata": {
        "id": "la3LgyVGGb0E",
        "trusted": true
      },
      "outputs": [],
      "source": []
    }
  ],
  "metadata": {
    "colab": {
      "provenance": []
    },
    "kaggle": {
      "accelerator": "gpu",
      "dataSources": [
        {
          "datasetId": 612351,
          "sourceId": 1095715,
          "sourceType": "datasetVersion"
        }
      ],
      "dockerImageVersionId": 30673,
      "isGpuEnabled": true,
      "isInternetEnabled": true,
      "language": "python",
      "sourceType": "notebook"
    },
    "kernelspec": {
      "display_name": "Python 3",
      "language": "python",
      "name": "python3"
    },
    "language_info": {
      "codemirror_mode": {
        "name": "ipython",
        "version": 3
      },
      "file_extension": ".py",
      "mimetype": "text/x-python",
      "name": "python",
      "nbconvert_exporter": "python",
      "pygments_lexer": "ipython3",
      "version": "3.10.13"
    }
  },
  "nbformat": 4,
  "nbformat_minor": 0
}
